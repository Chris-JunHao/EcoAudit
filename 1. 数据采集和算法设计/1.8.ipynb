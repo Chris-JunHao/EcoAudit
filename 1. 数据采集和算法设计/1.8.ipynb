{
 "cells": [
  {
   "cell_type": "code",
   "execution_count": 1,
   "metadata": {},
   "outputs": [],
   "source": [
    "import pandas as pd\n",
    "import shap"
   ]
  },
  {
   "cell_type": "code",
   "execution_count": 2,
   "metadata": {},
   "outputs": [],
   "source": [
    "# 加载 CSV 文件\n",
    "data = pd.read_csv(\"../data/water/整理好的csv/杭州202201-202203/浙江杭州202201-202203.csv\", encoding=\"utf-8\")"
   ]
  },
  {
   "cell_type": "code",
   "execution_count": 3,
   "metadata": {},
   "outputs": [
    {
     "name": "stderr",
     "output_type": "stream",
     "text": [
      "C:\\Users\\admin\\AppData\\Local\\Temp\\ipykernel_4552\\3374461071.py:2: FutureWarning: DataFrame.fillna with 'method' is deprecated and will raise in a future version. Use obj.ffill() or obj.bfill() instead.\n",
      "  data.fillna(method='ffill', inplace=True)\n"
     ]
    }
   ],
   "source": [
    "# 处理缺失值\n",
    "data.fillna(method='ffill', inplace=True)\n",
    "\n",
    "# 删除重复行\n",
    "data.drop_duplicates(inplace=True)"
   ]
  },
  {
   "cell_type": "code",
   "execution_count": 4,
   "metadata": {},
   "outputs": [],
   "source": [
    "# 选择数值列（水温, pH, 溶解氧, 高锰酸钾, 氨氮, 总磷, 总氮, 电导率, 浊度）\n",
    "from sklearn.discriminant_analysis import StandardScaler\n",
    "\n",
    "numeric_columns = ['水温', 'pH', '溶解氧', '高锰酸钾', '氨氮', '总磷', '总氮', '电导率', '浊度']\n",
    "data_numeric = data[numeric_columns]\n",
    "\n",
    "# 数据标准化处理\n",
    "scaler = StandardScaler()\n",
    "data_scaled = scaler.fit_transform(data_numeric)\n",
    "\n",
    "# 转换为Pandas DataFrame格式\n",
    "data_scaled_df = pd.DataFrame(data_scaled, columns=numeric_columns)"
   ]
  },
  {
   "cell_type": "code",
   "execution_count": 5,
   "metadata": {},
   "outputs": [
    {
     "name": "stdout",
     "output_type": "stream",
     "text": [
      "Epoch 1, Loss: 8.776693906398178\n",
      "Epoch 2, Loss: 7.680245279069\n",
      "Epoch 3, Loss: 7.071669119848536\n",
      "Epoch 4, Loss: 6.663617950244483\n",
      "Epoch 5, Loss: 6.340002067480038\n",
      "Epoch 6, Loss: 6.1819661125645\n",
      "Epoch 7, Loss: 5.955719742689373\n",
      "Epoch 8, Loss: 5.792764224431636\n",
      "Epoch 9, Loss: 5.727052245852358\n",
      "Epoch 10, Loss: 5.640943580026281\n",
      "Epoch 11, Loss: 5.561964180682037\n",
      "Epoch 12, Loss: 5.443566971359044\n",
      "Epoch 13, Loss: 5.4273478023760005\n",
      "Epoch 14, Loss: 5.3723067802101925\n",
      "Epoch 15, Loss: 5.33360517935293\n",
      "Epoch 16, Loss: 5.2852104542137175\n",
      "Epoch 17, Loss: 5.184494165943356\n",
      "Epoch 18, Loss: 5.169859406575991\n",
      "Epoch 19, Loss: 5.149259624127236\n",
      "Epoch 20, Loss: 5.092070587362458\n",
      "Epoch 21, Loss: 5.052964459156098\n",
      "Epoch 22, Loss: 5.052456765541887\n",
      "Epoch 23, Loss: 4.998973461136036\n",
      "Epoch 24, Loss: 4.964392696574426\n",
      "Epoch 25, Loss: 4.962318066445244\n",
      "Epoch 26, Loss: 4.8843576682531475\n",
      "Epoch 27, Loss: 4.897266943838447\n",
      "Epoch 28, Loss: 4.877650819435503\n",
      "Epoch 29, Loss: 4.858408958961944\n",
      "Epoch 30, Loss: 4.818912224092126\n",
      "Epoch 31, Loss: 4.7692968271625125\n",
      "Epoch 32, Loss: 4.7878404390423865\n",
      "Epoch 33, Loss: 4.796867859193101\n",
      "Epoch 34, Loss: 4.79015676047543\n",
      "Epoch 35, Loss: 4.741787661235311\n",
      "Epoch 36, Loss: 4.755786441980542\n",
      "Epoch 37, Loss: 4.761326722834732\n",
      "Epoch 38, Loss: 4.689933291749458\n",
      "Epoch 39, Loss: 4.671635950667031\n",
      "Epoch 40, Loss: 4.680244406342398\n",
      "Epoch 41, Loss: 4.674378057653359\n",
      "Epoch 42, Loss: 4.63263016280919\n",
      "Epoch 43, Loss: 4.6669102533269085\n",
      "Epoch 44, Loss: 4.631165213449987\n",
      "Epoch 45, Loss: 4.608160971144539\n",
      "Epoch 46, Loss: 4.632896881753418\n",
      "Epoch 47, Loss: 4.62525500502672\n",
      "Epoch 48, Loss: 4.635100892440939\n",
      "Epoch 49, Loss: 4.631540960550381\n",
      "Epoch 50, Loss: 4.600180473594561\n",
      "Epoch 51, Loss: 4.6190813515445255\n",
      "Epoch 52, Loss: 4.623285670174557\n",
      "Epoch 53, Loss: 4.588006465530047\n",
      "Epoch 54, Loss: 4.609232586569651\n",
      "Epoch 55, Loss: 4.6082952166894735\n",
      "Epoch 56, Loss: 4.586300828154413\n",
      "Epoch 57, Loss: 4.586341883442052\n",
      "Epoch 58, Loss: 4.612217396271058\n",
      "Epoch 59, Loss: 4.564550222797817\n",
      "Epoch 60, Loss: 4.54192092101698\n",
      "Epoch 61, Loss: 4.543857401542327\n",
      "Epoch 62, Loss: 4.527318465880141\n",
      "Epoch 63, Loss: 4.535111732239197\n",
      "Epoch 64, Loss: 4.560264807905076\n",
      "Epoch 65, Loss: 4.555230367281606\n",
      "Epoch 66, Loss: 4.501156606462396\n",
      "Epoch 67, Loss: 4.515210350414957\n",
      "Epoch 68, Loss: 4.5055776131272784\n",
      "Epoch 69, Loss: 4.518873135224642\n",
      "Epoch 70, Loss: 4.56469676543196\n",
      "Epoch 71, Loss: 4.509669397027434\n",
      "Epoch 72, Loss: 4.599454069703337\n",
      "Epoch 73, Loss: 4.510527898302766\n",
      "Epoch 74, Loss: 4.489464953346821\n",
      "Epoch 75, Loss: 4.510657660678994\n",
      "Epoch 76, Loss: 4.500228699631048\n",
      "Epoch 77, Loss: 4.527535047725518\n",
      "Epoch 78, Loss: 4.477642920447368\n",
      "Epoch 79, Loss: 4.49048909743506\n",
      "Epoch 80, Loss: 4.516530837989484\n",
      "Epoch 81, Loss: 4.488774097397366\n",
      "Epoch 82, Loss: 4.513552649172745\n",
      "Epoch 83, Loss: 4.503137814226142\n",
      "Epoch 84, Loss: 4.4735548729079815\n",
      "Epoch 85, Loss: 4.527727127655465\n",
      "Epoch 86, Loss: 4.450229852512175\n",
      "Epoch 87, Loss: 4.484981341894398\n",
      "Epoch 88, Loss: 4.4990960386048195\n",
      "Epoch 89, Loss: 4.491776264145413\n",
      "Epoch 90, Loss: 4.504380908823318\n",
      "Epoch 91, Loss: 4.437912752101005\n",
      "Epoch 92, Loss: 4.473472659044582\n",
      "Epoch 93, Loss: 4.490194308493034\n",
      "Epoch 94, Loss: 4.475643792774744\n",
      "Epoch 95, Loss: 4.438314010206965\n",
      "Epoch 96, Loss: 4.487924785283259\n",
      "Epoch 97, Loss: 4.461002487957859\n",
      "Epoch 98, Loss: 4.5170543068333675\n",
      "Epoch 99, Loss: 4.447344661302975\n"
     ]
    },
    {
     "name": "stderr",
     "output_type": "stream",
     "text": [
      "Using 6574 background data samples could cause slower run times. Consider using shap.sample(data, K) or shap.kmeans(data, K) to summarize the background as K samples.\n"
     ]
    },
    {
     "name": "stdout",
     "output_type": "stream",
     "text": [
      "Epoch 100, Loss: 4.439767340232726\n"
     ]
    },
    {
     "data": {
      "application/vnd.jupyter.widget-view+json": {
       "model_id": "9746e0e89ddb4f0680c99e0c7a3fc439",
       "version_major": 2,
       "version_minor": 0
      },
      "text/plain": [
       "  0%|          | 0/2 [00:00<?, ?it/s]"
      ]
     },
     "metadata": {},
     "output_type": "display_data"
    },
    {
     "data": {
      "text/html": [
       "<div>\n",
       "<style scoped>\n",
       "    .dataframe tbody tr th:only-of-type {\n",
       "        vertical-align: middle;\n",
       "    }\n",
       "\n",
       "    .dataframe tbody tr th {\n",
       "        vertical-align: top;\n",
       "    }\n",
       "\n",
       "    .dataframe thead th {\n",
       "        text-align: right;\n",
       "    }\n",
       "</style>\n",
       "<table border=\"1\" class=\"dataframe\">\n",
       "  <thead>\n",
       "    <tr style=\"text-align: right;\">\n",
       "      <th></th>\n",
       "      <th>省份</th>\n",
       "      <th>城市</th>\n",
       "      <th>河流</th>\n",
       "      <th>流域</th>\n",
       "      <th>断面名称</th>\n",
       "      <th>监测时间</th>\n",
       "      <th>水质类别</th>\n",
       "      <th>水温</th>\n",
       "      <th>pH</th>\n",
       "      <th>溶解氧</th>\n",
       "      <th>...</th>\n",
       "      <th>Anomaly</th>\n",
       "      <th>SHAP_水温</th>\n",
       "      <th>SHAP_pH</th>\n",
       "      <th>SHAP_溶解氧</th>\n",
       "      <th>SHAP_高锰酸钾</th>\n",
       "      <th>SHAP_氨氮</th>\n",
       "      <th>SHAP_总磷</th>\n",
       "      <th>SHAP_总氮</th>\n",
       "      <th>SHAP_电导率</th>\n",
       "      <th>SHAP_浊度</th>\n",
       "    </tr>\n",
       "  </thead>\n",
       "  <tbody>\n",
       "    <tr>\n",
       "      <th>159</th>\n",
       "      <td>浙江省</td>\n",
       "      <td>杭州市</td>\n",
       "      <td>新安江</td>\n",
       "      <td>浙闽片河流</td>\n",
       "      <td>洋溪渡</td>\n",
       "      <td>2022/1/3 4:00</td>\n",
       "      <td>Ⅰ</td>\n",
       "      <td>13.96</td>\n",
       "      <td>8.400</td>\n",
       "      <td>12.240</td>\n",
       "      <td>...</td>\n",
       "      <td>True</td>\n",
       "      <td>-0.152616</td>\n",
       "      <td>0.187909</td>\n",
       "      <td>-0.101283</td>\n",
       "      <td>-0.178931</td>\n",
       "      <td>-0.094076</td>\n",
       "      <td>-0.053970</td>\n",
       "      <td>1.559734</td>\n",
       "      <td>-0.118945</td>\n",
       "      <td>-0.103026</td>\n",
       "    </tr>\n",
       "    <tr>\n",
       "      <th>5139</th>\n",
       "      <td>浙江省</td>\n",
       "      <td>杭州市</td>\n",
       "      <td>京杭运河</td>\n",
       "      <td>太湖流域</td>\n",
       "      <td>顾家桥</td>\n",
       "      <td>2022/3/12 4:00</td>\n",
       "      <td>Ⅱ</td>\n",
       "      <td>13.96</td>\n",
       "      <td>7.581</td>\n",
       "      <td>9.532</td>\n",
       "      <td>...</td>\n",
       "      <td>True</td>\n",
       "      <td>-0.006790</td>\n",
       "      <td>-0.033542</td>\n",
       "      <td>-0.013500</td>\n",
       "      <td>-0.010183</td>\n",
       "      <td>-0.012392</td>\n",
       "      <td>0.000276</td>\n",
       "      <td>-0.002433</td>\n",
       "      <td>-0.002438</td>\n",
       "      <td>-0.008364</td>\n",
       "    </tr>\n",
       "  </tbody>\n",
       "</table>\n",
       "<p>2 rows × 27 columns</p>\n",
       "</div>"
      ],
      "text/plain": [
       "       省份   城市    河流     流域 断面名称            监测时间 水质类别     水温     pH     溶解氧  \\\n",
       "159   浙江省  杭州市   新安江  浙闽片河流  洋溪渡   2022/1/3 4:00    Ⅰ  13.96  8.400  12.240   \n",
       "5139  浙江省  杭州市  京杭运河   太湖流域  顾家桥  2022/3/12 4:00    Ⅱ  13.96  7.581   9.532   \n",
       "\n",
       "      ...  Anomaly   SHAP_水温   SHAP_pH  SHAP_溶解氧  SHAP_高锰酸钾   SHAP_氨氮  \\\n",
       "159   ...     True -0.152616  0.187909 -0.101283  -0.178931 -0.094076   \n",
       "5139  ...     True -0.006790 -0.033542 -0.013500  -0.010183 -0.012392   \n",
       "\n",
       "       SHAP_总磷   SHAP_总氮  SHAP_电导率   SHAP_浊度  \n",
       "159  -0.053970  1.559734 -0.118945 -0.103026  \n",
       "5139  0.000276 -0.002433 -0.002438 -0.008364  \n",
       "\n",
       "[2 rows x 27 columns]"
      ]
     },
     "execution_count": 5,
     "metadata": {},
     "output_type": "execute_result"
    }
   ],
   "source": [
    "import torch\n",
    "import torch.nn as nn\n",
    "import torch.optim as optim\n",
    "import shap\n",
    "import pandas as pd\n",
    "\n",
    "# 定义VAE模型\n",
    "class VAE(nn.Module):\n",
    "    def __init__(self, input_dim, hidden_dim, latent_dim):\n",
    "        super(VAE, self).__init__()\n",
    "        # 编码器\n",
    "        self.fc1 = nn.Linear(input_dim, hidden_dim)\n",
    "        self.fc2_mu = nn.Linear(hidden_dim, latent_dim)\n",
    "        self.fc2_logvar = nn.Linear(hidden_dim, latent_dim)\n",
    "        # 解码器\n",
    "        self.fc3 = nn.Linear(latent_dim, hidden_dim)\n",
    "        self.fc4 = nn.Linear(hidden_dim, input_dim)\n",
    "\n",
    "    def encode(self, x):\n",
    "        h1 = torch.relu(self.fc1(x))\n",
    "        return self.fc2_mu(h1), self.fc2_logvar(h1)\n",
    "\n",
    "    def reparameterize(self, mu, logvar):\n",
    "        std = torch.exp(0.5 * logvar)\n",
    "        eps = torch.randn_like(std)\n",
    "        return mu + eps * std\n",
    "\n",
    "    def decode(self, z):\n",
    "        h3 = torch.relu(self.fc3(z))\n",
    "        return self.fc4(h3)\n",
    "\n",
    "    def forward(self, x):\n",
    "        mu, logvar = self.encode(x)\n",
    "        z = self.reparameterize(mu, logvar)\n",
    "        return self.decode(z), mu, logvar\n",
    "\n",
    "# 定义损失函数\n",
    "def loss_function(recon_x, x, mu, logvar):\n",
    "    # 使用MSE作为重构损失\n",
    "    MSE = nn.functional.mse_loss(recon_x, x, reduction='sum')\n",
    "    # KL散度损失\n",
    "    KLD = -0.5 * torch.sum(1 + logvar - mu.pow(2) - logvar.exp())\n",
    "    return MSE + KLD\n",
    "\n",
    "# 训练VAE模型\n",
    "def train_vae(data, input_dim, hidden_dim=64, latent_dim=16, epochs=100, batch_size=32, learning_rate=1e-3):\n",
    "    model = VAE(input_dim, hidden_dim, latent_dim)\n",
    "    optimizer = optim.Adam(model.parameters(), lr=learning_rate)\n",
    "    data_tensor = torch.FloatTensor(data)\n",
    "\n",
    "    dataset = torch.utils.data.TensorDataset(data_tensor)\n",
    "    dataloader = torch.utils.data.DataLoader(dataset, batch_size=batch_size, shuffle=True)\n",
    "\n",
    "    for epoch in range(epochs):\n",
    "        model.train()\n",
    "        train_loss = 0\n",
    "        for batch_idx, (inputs,) in enumerate(dataloader):\n",
    "            optimizer.zero_grad()\n",
    "            recon_batch, mu, logvar = model(inputs)\n",
    "            loss = loss_function(recon_batch, inputs, mu, logvar)\n",
    "            loss.backward()\n",
    "            train_loss += loss.item()\n",
    "            optimizer.step()\n",
    "\n",
    "        print(f'Epoch {epoch+1}, Loss: {train_loss / len(dataloader.dataset)}')\n",
    "\n",
    "    return model\n",
    "\n",
    "# 使用VAE模型进行异常检测\n",
    "def detect_anomalies(model, data, threshold=3):\n",
    "    data_tensor = torch.FloatTensor(data)\n",
    "    model.eval()\n",
    "    with torch.no_grad():\n",
    "        recon_data, _, _ = model(data_tensor)\n",
    "        reconstruction_error = torch.mean((recon_data - data_tensor) ** 2, dim=1)\n",
    "        anomalies = reconstruction_error > threshold\n",
    "    return anomalies.numpy(), reconstruction_error.numpy()\n",
    "\n",
    "# 使用SHAP解释每个特征对异常的贡献\n",
    "def explain_anomalies(model, data, sample_data):\n",
    "    # 定义解释器函数\n",
    "    def model_predict(inputs):\n",
    "        model.eval()\n",
    "        with torch.no_grad():\n",
    "            recon_data, _, _ = model(torch.FloatTensor(inputs))\n",
    "            reconstruction_error = torch.mean((recon_data - torch.FloatTensor(inputs)) ** 2, dim=1)\n",
    "        return reconstruction_error.numpy()\n",
    "\n",
    "    # 创建一个KernelExplainer来计算SHAP值\n",
    "    explainer = shap.KernelExplainer(model_predict, data)\n",
    "    \n",
    "    # 计算SHAP值\n",
    "    shap_values = explainer.shap_values(sample_data)\n",
    "\n",
    "    return shap_values\n",
    "\n",
    "# 设置参数并训练VAE模型\n",
    "input_dim = data_scaled_df.shape[1]\n",
    "vae_model = train_vae(data_scaled_df.values, input_dim, epochs=100)\n",
    "\n",
    "# 检测异常\n",
    "anomalies, recon_error = detect_anomalies(vae_model, data_scaled_df.values)\n",
    "\n",
    "# 将检测结果显示给用户\n",
    "anomalies_df = data.copy()\n",
    "anomalies_df['Reconstruction Error'] = recon_error\n",
    "anomalies_df['Anomaly'] = anomalies\n",
    "\n",
    "# 筛选出异常数据点\n",
    "anomalous_data = data_scaled_df.values[anomalies]\n",
    "\n",
    "# 解释异常值的SHAP值\n",
    "shap_values = explain_anomalies(vae_model, data_scaled_df.values, anomalous_data)\n",
    "\n",
    "# 创建一个DataFrame来保存SHAP值\n",
    "shap_df = pd.DataFrame(shap_values, columns=data_scaled_df.columns)\n",
    "\n",
    "# 将SHAP值添加到异常数据中\n",
    "anomalies_df = anomalies_df[anomalies_df['Anomaly'] == True]\n",
    "for column in shap_df.columns:\n",
    "    anomalies_df[f'SHAP_{column}'] = shap_df[column].values\n",
    "\n",
    "anomalies_df"
   ]
  },
  {
   "cell_type": "code",
   "execution_count": 6,
   "metadata": {},
   "outputs": [
    {
     "name": "stderr",
     "output_type": "stream",
     "text": [
      "C:\\Users\\admin\\AppData\\Local\\Temp\\ipykernel_4552\\231830321.py:95: FutureWarning: DataFrame.fillna with 'method' is deprecated and will raise in a future version. Use obj.ffill() or obj.bfill() instead.\n",
      "  data[water].fillna(method='ffill', inplace=True)\n",
      "Using 2554 background data samples could cause slower run times. Consider using shap.sample(data, K) or shap.kmeans(data, K) to summarize the background as K samples.\n"
     ]
    },
    {
     "data": {
      "application/vnd.jupyter.widget-view+json": {
       "model_id": "ffcb313ad3b4488fb10e5552448e3955",
       "version_major": 2,
       "version_minor": 0
      },
      "text/plain": [
       "  0%|          | 0/4 [00:00<?, ?it/s]"
      ]
     },
     "metadata": {},
     "output_type": "display_data"
    },
    {
     "name": "stderr",
     "output_type": "stream",
     "text": [
      "C:\\Users\\admin\\AppData\\Local\\Temp\\ipykernel_4552\\231830321.py:95: FutureWarning: DataFrame.fillna with 'method' is deprecated and will raise in a future version. Use obj.ffill() or obj.bfill() instead.\n",
      "  data[water].fillna(method='ffill', inplace=True)\n",
      "Using 2100 background data samples could cause slower run times. Consider using shap.sample(data, K) or shap.kmeans(data, K) to summarize the background as K samples.\n"
     ]
    },
    {
     "name": "stdout",
     "output_type": "stream",
     "text": [
      "已生成异常数据的 CSV 文件：anomalous_data_with_shap_0.csv\n"
     ]
    },
    {
     "data": {
      "application/vnd.jupyter.widget-view+json": {
       "model_id": "9312b60deec04a4d9d281f3fea0293e9",
       "version_major": 2,
       "version_minor": 0
      },
      "text/plain": [
       "  0%|          | 0/4 [00:00<?, ?it/s]"
      ]
     },
     "metadata": {},
     "output_type": "display_data"
    },
    {
     "name": "stderr",
     "output_type": "stream",
     "text": [
      "C:\\Users\\admin\\AppData\\Local\\Temp\\ipykernel_4552\\231830321.py:95: FutureWarning: DataFrame.fillna with 'method' is deprecated and will raise in a future version. Use obj.ffill() or obj.bfill() instead.\n",
      "  data[water].fillna(method='ffill', inplace=True)\n",
      "Using 2130 background data samples could cause slower run times. Consider using shap.sample(data, K) or shap.kmeans(data, K) to summarize the background as K samples.\n"
     ]
    },
    {
     "name": "stdout",
     "output_type": "stream",
     "text": [
      "已生成异常数据的 CSV 文件：anomalous_data_with_shap_1.csv\n"
     ]
    },
    {
     "data": {
      "application/vnd.jupyter.widget-view+json": {
       "model_id": "a732fff0b2d747f984f7f3f8800f20e1",
       "version_major": 2,
       "version_minor": 0
      },
      "text/plain": [
       "  0%|          | 0/9 [00:00<?, ?it/s]"
      ]
     },
     "metadata": {},
     "output_type": "display_data"
    },
    {
     "name": "stderr",
     "output_type": "stream",
     "text": [
      "C:\\Users\\admin\\AppData\\Local\\Temp\\ipykernel_4552\\231830321.py:95: FutureWarning: DataFrame.fillna with 'method' is deprecated and will raise in a future version. Use obj.ffill() or obj.bfill() instead.\n",
      "  data[water].fillna(method='ffill', inplace=True)\n",
      "Using 4005 background data samples could cause slower run times. Consider using shap.sample(data, K) or shap.kmeans(data, K) to summarize the background as K samples.\n"
     ]
    },
    {
     "name": "stdout",
     "output_type": "stream",
     "text": [
      "已生成异常数据的 CSV 文件：anomalous_data_with_shap_2.csv\n"
     ]
    },
    {
     "data": {
      "application/vnd.jupyter.widget-view+json": {
       "model_id": "9690c9c831d84fb18ecf8f38c4ca9bae",
       "version_major": 2,
       "version_minor": 0
      },
      "text/plain": [
       "  0%|          | 0/4 [00:00<?, ?it/s]"
      ]
     },
     "metadata": {},
     "output_type": "display_data"
    },
    {
     "name": "stderr",
     "output_type": "stream",
     "text": [
      "C:\\Users\\admin\\AppData\\Local\\Temp\\ipykernel_4552\\231830321.py:95: FutureWarning: DataFrame.fillna with 'method' is deprecated and will raise in a future version. Use obj.ffill() or obj.bfill() instead.\n",
      "  data[water].fillna(method='ffill', inplace=True)\n",
      "Using 878 background data samples could cause slower run times. Consider using shap.sample(data, K) or shap.kmeans(data, K) to summarize the background as K samples.\n"
     ]
    },
    {
     "name": "stdout",
     "output_type": "stream",
     "text": [
      "已生成异常数据的 CSV 文件：anomalous_data_with_shap_3.csv\n"
     ]
    },
    {
     "data": {
      "application/vnd.jupyter.widget-view+json": {
       "model_id": "4a81ec0fcb824592b14fac8bdbd1551f",
       "version_major": 2,
       "version_minor": 0
      },
      "text/plain": [
       "  0%|          | 0/1 [00:00<?, ?it/s]"
      ]
     },
     "metadata": {},
     "output_type": "display_data"
    },
    {
     "name": "stderr",
     "output_type": "stream",
     "text": [
      "C:\\Users\\admin\\AppData\\Local\\Temp\\ipykernel_4552\\231830321.py:95: FutureWarning: DataFrame.fillna with 'method' is deprecated and will raise in a future version. Use obj.ffill() or obj.bfill() instead.\n",
      "  data[water].fillna(method='ffill', inplace=True)\n",
      "Using 1956 background data samples could cause slower run times. Consider using shap.sample(data, K) or shap.kmeans(data, K) to summarize the background as K samples.\n"
     ]
    },
    {
     "name": "stdout",
     "output_type": "stream",
     "text": [
      "已生成异常数据的 CSV 文件：anomalous_data_with_shap_4.csv\n"
     ]
    },
    {
     "data": {
      "application/vnd.jupyter.widget-view+json": {
       "model_id": "3ae4e90980fd45a1a7570fc850be71ff",
       "version_major": 2,
       "version_minor": 0
      },
      "text/plain": [
       "  0%|          | 0/2 [00:00<?, ?it/s]"
      ]
     },
     "metadata": {},
     "output_type": "display_data"
    },
    {
     "name": "stderr",
     "output_type": "stream",
     "text": [
      "C:\\Users\\admin\\AppData\\Local\\Temp\\ipykernel_4552\\231830321.py:95: FutureWarning: DataFrame.fillna with 'method' is deprecated and will raise in a future version. Use obj.ffill() or obj.bfill() instead.\n",
      "  data[water].fillna(method='ffill', inplace=True)\n",
      "Using 5617 background data samples could cause slower run times. Consider using shap.sample(data, K) or shap.kmeans(data, K) to summarize the background as K samples.\n"
     ]
    },
    {
     "name": "stdout",
     "output_type": "stream",
     "text": [
      "已生成异常数据的 CSV 文件：anomalous_data_with_shap_5.csv\n"
     ]
    },
    {
     "data": {
      "application/vnd.jupyter.widget-view+json": {
       "model_id": "b7522fbb8be340a89f2730baae7ba75f",
       "version_major": 2,
       "version_minor": 0
      },
      "text/plain": [
       "  0%|          | 0/48 [00:00<?, ?it/s]"
      ]
     },
     "metadata": {},
     "output_type": "display_data"
    },
    {
     "name": "stderr",
     "output_type": "stream",
     "text": [
      "C:\\Users\\admin\\AppData\\Local\\Temp\\ipykernel_4552\\231830321.py:95: FutureWarning: DataFrame.fillna with 'method' is deprecated and will raise in a future version. Use obj.ffill() or obj.bfill() instead.\n",
      "  data[water].fillna(method='ffill', inplace=True)\n",
      "Using 2036 background data samples could cause slower run times. Consider using shap.sample(data, K) or shap.kmeans(data, K) to summarize the background as K samples.\n"
     ]
    },
    {
     "name": "stdout",
     "output_type": "stream",
     "text": [
      "已生成异常数据的 CSV 文件：anomalous_data_with_shap_6.csv\n"
     ]
    },
    {
     "data": {
      "application/vnd.jupyter.widget-view+json": {
       "model_id": "711b1c7c07fa42f18bc39e1f81e2f863",
       "version_major": 2,
       "version_minor": 0
      },
      "text/plain": [
       "  0%|          | 0/13 [00:00<?, ?it/s]"
      ]
     },
     "metadata": {},
     "output_type": "display_data"
    },
    {
     "name": "stderr",
     "output_type": "stream",
     "text": [
      "C:\\Users\\admin\\AppData\\Local\\Temp\\ipykernel_4552\\231830321.py:95: FutureWarning: DataFrame.fillna with 'method' is deprecated and will raise in a future version. Use obj.ffill() or obj.bfill() instead.\n",
      "  data[water].fillna(method='ffill', inplace=True)\n",
      "Using 3111 background data samples could cause slower run times. Consider using shap.sample(data, K) or shap.kmeans(data, K) to summarize the background as K samples.\n"
     ]
    },
    {
     "name": "stdout",
     "output_type": "stream",
     "text": [
      "已生成异常数据的 CSV 文件：anomalous_data_with_shap_7.csv\n"
     ]
    },
    {
     "data": {
      "application/vnd.jupyter.widget-view+json": {
       "model_id": "437169b1aa1e4c14a8f33b8de7bf7350",
       "version_major": 2,
       "version_minor": 0
      },
      "text/plain": [
       "  0%|          | 0/4 [00:00<?, ?it/s]"
      ]
     },
     "metadata": {},
     "output_type": "display_data"
    },
    {
     "name": "stdout",
     "output_type": "stream",
     "text": [
      "已生成异常数据的 CSV 文件：anomalous_data_with_shap_8.csv\n"
     ]
    }
   ],
   "source": [
    "import torch\n",
    "import pandas as pd\n",
    "import shap\n",
    "from sklearn.preprocessing import StandardScaler\n",
    "# 定义一个函数用于加载新数据并进行异常检测\n",
    "def detect_anomalies_on_new_data(model, new_data, threshold=5):\n",
    "    # 将新数据转化为Tensor\n",
    "    new_data_tensor = torch.FloatTensor(new_data)\n",
    "    # 使用训练好的模型进行推理\n",
    "    model.eval()\n",
    "    with torch.no_grad():\n",
    "        recon_data, _, _ = model(new_data_tensor)\n",
    "        reconstruction_error = torch.mean((recon_data - new_data_tensor) ** 2, dim=1)\n",
    "        anomalies = reconstruction_error > threshold\n",
    "    # 返回检测结果和重构误差\n",
    "    return anomalies.numpy(), reconstruction_error.numpy()\n",
    "\n",
    "# 使用SHAP解释每个特征对新数据异常的贡献\n",
    "def explain_anomalies_on_new_data(model, new_data, sample_data):\n",
    "    # 定义解释器函数\n",
    "    def model_predict(inputs):\n",
    "        model.eval()\n",
    "        with torch.no_grad():\n",
    "            recon_data, _, _ = model(torch.FloatTensor(inputs))\n",
    "            reconstruction_error = torch.mean((recon_data - torch.FloatTensor(inputs)) ** 2, dim=1)\n",
    "        # print(f\"Reconstruction error shape: {reconstruction_error.shape}\")\n",
    "        return reconstruction_error.numpy()\n",
    "    # # 限制背景数据大小，避免计算慢\n",
    "    # new_data_sampled = shap.sample(new_data, 100)  # 限制背景样本大小\n",
    "    # # 创建一个KernelExplainer来计算SHAP值\n",
    "    # explainer = shap.KernelExplainer(model_predict, new_data_sampled)\n",
    "    explainer = shap.KernelExplainer(model_predict, new_data)\n",
    "    # 计算SHAP值\n",
    "    shap_values = explainer.shap_values(sample_data)\n",
    "    return shap_values\n",
    "\n",
    "\n",
    "data = {}\n",
    "# 加载 CSV 文件\n",
    "# 'gb2312', 'gbk', 'gb18030', 'utf-8'\n",
    "# data[0] = pd.read_csv(\"../data/water/整理好的csv/杭州202101-202112/东苕溪202101-202112.csv\")\n",
    "# data[1] = pd.read_csv(\"../data/water/整理好的csv/杭州202101-202112/分水江202101-202112.csv\")\n",
    "# data[2] = pd.read_csv(\"../data/water/整理好的csv/杭州202101-202112/富春江202101-202112.csv\")\n",
    "# data[3] = pd.read_csv(\"../data/water/整理好的csv/杭州202101-202112/京杭运河202101-202112.csv\")\n",
    "# data[4] = pd.read_csv(\"../data/water/整理好的csv/杭州202101-202112/南苕溪202101-202112.csv\")\n",
    "# data[5] = pd.read_csv(\"../data/water/整理好的csv/杭州202101-202112/浦阳江202101-202112.csv\")\n",
    "# data[6] = pd.read_csv(\"../data/water/整理好的csv/杭州202101-202112/千岛湖202101-202112.csv\")\n",
    "# data[7] = pd.read_csv(\"../data/water/整理好的csv/杭州202101-202112/钱塘江202101-202112.csv\")\n",
    "# data[8] = pd.read_csv(\"../data/water/整理好的csv/杭州202101-202112/新安江202101-202112.csv\")\n",
    "\n",
    "# data[0] = pd.read_csv(\"../data/water/整理好的csv/杭州202101-202112/东苕溪202101-202112.csv\", encoding=\"utf-8\")\n",
    "# data[1] = pd.read_csv(\"../data/water/整理好的csv/杭州202101-202112/分水江202101-202112.csv\", encoding=\"utf-8\")\n",
    "# data[2] = pd.read_csv(\"../data/water/整理好的csv/杭州202101-202112/富春江202101-202112.csv\", encoding=\"utf-8\")\n",
    "# data[3] = pd.read_csv(\"../data/water/整理好的csv/杭州202101-202112/京杭运河202101-202112.csv\", encoding=\"utf-8\")\n",
    "# data[4] = pd.read_csv(\"../data/water/整理好的csv/杭州202101-202112/南苕溪202101-202112.csv\", encoding=\"utf-8\")\n",
    "# data[5] = pd.read_csv(\"../data/water/整理好的csv/杭州202101-202112/浦阳江202101-202112.csv\", encoding=\"utf-8\")\n",
    "# data[6] = pd.read_csv(\"../data/water/整理好的csv/杭州202101-202112/千岛湖202101-202112.csv\", encoding=\"utf-8\")\n",
    "# data[7] = pd.read_csv(\"../data/water/整理好的csv/杭州202101-202112/钱塘江202101-202112.csv\", encoding=\"utf-8\")\n",
    "# data[8] = pd.read_csv(\"../data/water/整理好的csv/杭州202101-202112/新安江202101-202112.csv\", encoding=\"utf-8\")\n",
    "\n",
    "# data[0] = pd.read_csv(\"../data/water/整理好的csv/杭州202101-202112/东苕溪202101-202112.csv\", encoding=\"gb2312\")\n",
    "# data[1] = pd.read_csv(\"../data/water/整理好的csv/杭州202101-202112/分水江202101-202112.csv\", encoding=\"gb2312\")\n",
    "# data[2] = pd.read_csv(\"../data/water/整理好的csv/杭州202101-202112/富春江202101-202112.csv\", encoding=\"gb2312\")\n",
    "# data[3] = pd.read_csv(\"../data/water/整理好的csv/杭州202101-202112/京杭运河202101-202112.csv\", encoding=\"gb2312\")\n",
    "# data[4] = pd.read_csv(\"../data/water/整理好的csv/杭州202101-202112/南苕溪202101-202112.csv\", encoding=\"gb2312\")\n",
    "# data[5] = pd.read_csv(\"../data/water/整理好的csv/杭州202101-202112/浦阳江202101-202112.csv\", encoding=\"gb2312\")\n",
    "# data[6] = pd.read_csv(\"../data/water/整理好的csv/杭州202101-202112/千岛湖202101-202112.csv\", encoding=\"gb2312\")\n",
    "# data[7] = pd.read_csv(\"../data/water/整理好的csv/杭州202101-202112/钱塘江202101-202112.csv\", encoding=\"gb2312\")\n",
    "# data[8] = pd.read_csv(\"../data/water/整理好的csv/杭州202101-202112/新安江202101-202112.csv\", encoding=\"gb2312\")\n",
    "\n",
    "# data[0] = pd.read_csv(\"../data/water/整理好的csv/杭州202101-202112/东苕溪202101-202112.csv\", encoding=\"gbk\")\n",
    "# data[1] = pd.read_csv(\"../data/water/整理好的csv/杭州202101-202112/分水江202101-202112.csv\", encoding=\"gbk\")\n",
    "# data[2] = pd.read_csv(\"../data/water/整理好的csv/杭州202101-202112/富春江202101-202112.csv\", encoding=\"gbk\")\n",
    "# data[3] = pd.read_csv(\"../data/water/整理好的csv/杭州202101-202112/京杭运河202101-202112.csv\", encoding=\"gbk\")\n",
    "# data[4] = pd.read_csv(\"../data/water/整理好的csv/杭州202101-202112/南苕溪202101-202112.csv\", encoding=\"gbk\")\n",
    "# data[5] = pd.read_csv(\"../data/water/整理好的csv/杭州202101-202112/浦阳江202101-202112.csv\", encoding=\"gbk\")\n",
    "# data[6] = pd.read_csv(\"../data/water/整理好的csv/杭州202101-202112/千岛湖202101-202112.csv\", encoding=\"gbk\")\n",
    "# data[7] = pd.read_csv(\"../data/water/整理好的csv/杭州202101-202112/钱塘江202101-202112.csv\", encoding=\"gbk\")\n",
    "# data[8] = pd.read_csv(\"../data/water/整理好的csv/杭州202101-202112/新安江202101-202112.csv\", encoding=\"gbk\")\n",
    "\n",
    "data[0] = pd.read_csv(\"../data/water/整理好的csv/杭州202101-202112/东苕溪202101-202112.csv\", encoding=\"gb2312\")\n",
    "data[1] = pd.read_csv(\"../data/water/整理好的csv/杭州202101-202112/分水江202101-202112.csv\", encoding=\"utf-8\")\n",
    "data[2] = pd.read_csv(\"../data/water/整理好的csv/杭州202101-202112/富春江202101-202112.csv\", encoding=\"utf-8\")\n",
    "data[3] = pd.read_csv(\"../data/water/整理好的csv/杭州202101-202112/京杭运河202101-202112.csv\", encoding=\"gb2312\")\n",
    "data[4] = pd.read_csv(\"../data/water/整理好的csv/杭州202101-202112/南苕溪202101-202112.csv\", encoding=\"utf-8\")\n",
    "data[5] = pd.read_csv(\"../data/water/整理好的csv/杭州202101-202112/浦阳江202101-202112.csv\", encoding=\"utf-8\")\n",
    "data[6] = pd.read_csv(\"../data/water/整理好的csv/杭州202101-202112/千岛湖202101-202112.csv\", encoding=\"utf-8\")\n",
    "data[7] = pd.read_csv(\"../data/water/整理好的csv/杭州202101-202112/钱塘江202101-202112.csv\", encoding=\"utf-8\")\n",
    "data[8] = pd.read_csv(\"../data/water/整理好的csv/杭州202101-202112/新安江202101-202112.csv\", encoding=\"utf-8\")\n",
    "# 初始化存储所有异常数据的 DataFrame\n",
    "# all_anomalous_with_shap = pd.DataFrame()\n",
    "# 循环处理每个数据集\n",
    "for water in range (0, 9):\n",
    "    # 处理缺失值\n",
    "    data[water].fillna(method='ffill', inplace=True)\n",
    "    # 删除重复行\n",
    "    data[water].drop_duplicates(inplace=True)\n",
    "    # 选择数值列（水温, pH, 溶解氧, 高锰酸钾, 氨氮, 总磷, 总氮, 电导率, 浊度）\n",
    "    numeric_columns = ['水温', 'pH', '溶解氧', '高锰酸钾', '氨氮', '总磷', '总氮', '电导率', '浊度']\n",
    "    data_numeric = data[water][numeric_columns]\n",
    "    # 数据标准化处理\n",
    "    scaler = StandardScaler()\n",
    "    data_scaled = scaler.fit_transform(data_numeric)\n",
    "    # 转换为Pandas DataFrame格式\n",
    "    new_data_scaled_df = pd.DataFrame(data_scaled, columns=numeric_columns)\n",
    "    \n",
    "    # 记录原始数据的非数值列\n",
    "    non_numeric_columns = ['城市', '河流', '流域', '断面名称', '监测时间', '水质类别']\n",
    "    non_numeric_data = data[water][non_numeric_columns]\n",
    "    \n",
    "    # 使用训练好的模型检测新数据集中的异常\n",
    "    anomalies_new, recon_error_new = detect_anomalies_on_new_data(vae_model, new_data_scaled_df.values)\n",
    "    # 将结果显示给用户\n",
    "    # new_anomalies_df = new_data_scaled_df.copy()\n",
    "    new_anomalies_df = data_numeric.copy()\n",
    "    new_anomalies_df['Reconstruction Error'] = recon_error_new\n",
    "    new_anomalies_df['Anomaly'] = anomalies_new\n",
    "    \n",
    "    # 显示异常的行\n",
    "    anomalous_new_data = new_data_scaled_df[anomalies_new]\n",
    "    if anomalous_new_data.shape[0] == 0:\n",
    "        print(f\"No anomalies detected in the data for file {water}.\")\n",
    "        continue\n",
    "    \n",
    "    # 解释新数据中异常点的SHAP值\n",
    "    shap_values_new = explain_anomalies_on_new_data(vae_model, new_data_scaled_df.values, anomalous_new_data.values)\n",
    "    # 创建一个DataFrame来保存新数据的SHAP值\n",
    "    shap_new_df = pd.DataFrame(shap_values_new, columns=new_data_scaled_df.columns)\n",
    "    \n",
    "    # 将SHAP值添加到新数据的异常检测结果中\n",
    "    anomalous_new_df = new_anomalies_df[new_anomalies_df['Anomaly'] == True].copy()\n",
    "    for column in shap_new_df.columns:\n",
    "        anomalous_new_df[f'SHAP_{column}'] = shap_new_df[column].values\n",
    "    \n",
    "    # # 将非数值列添加回最终的异常数据 DataFrame\n",
    "    # final_anomalous_df = pd.concat([non_numeric_data[anomalous_new_df.index].reset_index(drop=True), anomalous_new_df.reset_index(drop=True)], axis=1)\n",
    "    \n",
    "    # 将非数值列添加回最终的异常数据 DataFrame\n",
    "    # 通过重置索引来确保对齐\n",
    "    anomalous_indices = anomalous_new_df.index\n",
    "    non_numeric_data_subset = non_numeric_data.loc[anomalous_indices].reset_index(drop=True)\n",
    "    anomalous_new_df = anomalous_new_df.reset_index(drop=True)\n",
    "    \n",
    "    final_anomalous_df = pd.concat([non_numeric_data_subset, anomalous_new_df], axis=1)\n",
    "\n",
    "    # 保存异常数据和SHAP值到CSV文件\n",
    "    final_anomalous_df.to_csv(f\"anomalous_data_with_shap_{water}.csv\", index=False)\n",
    "    print(f\"已生成异常数据的 CSV 文件：anomalous_data_with_shap_{water}.csv\")\n",
    "    \n",
    "    \n",
    " \n",
    "   \n",
    "    # # print(anomalous_new_df.columns)\n",
    "    # ### anomalous_data = data[new_anomalies_df['Anomaly'] == True]\n",
    "    # # 提取 SHAP 值\n",
    "    # ### shap_columns = [f'SHAP_{col}' for col in anomalous_new_df.columns if f'SHAP_{col}' in anomalous_new_df.columns]\n",
    "    # ### shap_data = anomalous_new_df[shap_columns]\n",
    "    # # 使用 pd.concat 将原始异常数据和 SHAP 值拼接在一起\n",
    "    # # anomalous_with_shap = pd.concat([anomalous_data, shap_data], axis=1) #列拼接\n",
    "    # ############### anomalous_with_shap = pd.concat([anomalous_new_df, shap_new_df], axis=1)    #列拼接\n",
    "    # # anomalous_with_shap = pd.concat([data[water][anomalies_new], shap_new_df], axis=1)  # 列拼接\n",
    "    # # anomalous_with_shap = pd.concat([data[new_anomalies_df['Anomaly'] == True], shap_new_df], axis=1)  # 列拼接\n",
    "    # # all_anomalous_with_shap=pd.concat([all_anomalous_with_shap, anomalous_with_shap]) #拼接数据行\n",
    "    # # 保存异常数据和SHAP值到CSV文件\n",
    "    # # all_anomalous_with_shap.to_csv('anomalous_data_with_shap.csv', index=False)\n",
    "    # ############### anomalous_with_shap.to_csv(f\"anomalous_data_with_shap_{water}.csv\", index=False)\n",
    "    # anomalous_new_df.to_csv(f\"anomalous_data_with_shap_{water}.csv\", index=False)\n",
    "    # print(f\"已生成异常数据的 CSV 文件：anomalous_data_with_shap{water}.csv\")"
   ]
  }
 ],
 "metadata": {
  "kernelspec": {
   "display_name": "block_b",
   "language": "python",
   "name": "python3"
  },
  "language_info": {
   "codemirror_mode": {
    "name": "ipython",
    "version": 3
   },
   "file_extension": ".py",
   "mimetype": "text/x-python",
   "name": "python",
   "nbconvert_exporter": "python",
   "pygments_lexer": "ipython3",
   "version": "3.11.7"
  }
 },
 "nbformat": 4,
 "nbformat_minor": 2
}
