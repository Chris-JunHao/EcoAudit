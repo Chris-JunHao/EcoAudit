{
 "cells": [
  {
   "cell_type": "code",
   "execution_count": null,
   "id": "dc20ea80",
   "metadata": {},
   "outputs": [],
   "source": [
    "import pandas as pd\n",
    "import numpy as np\n",
    "import tensorflow as tf\n",
    "import shap\n",
    "\n",
    "from multiprocessing.spawn import import_main_path\n",
    "from sklearn.preprocessing import MinMaxScaler\n",
    "shap.initjs()\n",
    "from tensorflow.keras.models import Model\n",
    "from tensorflow.keras.layers import Input, Dense\n",
    "from tensorflow.keras import regularizers\n",
    "from tensorflow.keras.callbacks import EarlyStopping\n",
    "from sklearn.preprocessing import MinMaxScaler\n",
    "import matplotlib.pyplot as plt\n",
    "import matplotlib as mpl\n",
    "import matplotlib.image as mpimg\n",
    "mpl.rcParams['font.family'] = 'SimHei'\n",
    "plt.rcParams['axes.unicode_minus'] = False\n",
    "plt.rcParams['font.size'] = 23\n",
    "plt.rcParams['figure.dpi'] = 3000\n",
    "# 加载数据\n",
    "data = pd.read_csv(r'F:\\new.csv', encoding=\"gbk\").dropna()\n",
    "# data['Timestamp'] = pd.to_datetime(data['监测时间'], format = '%Y-%m-%d %H:%M')\n",
    "data.drop(['监测时间'],axis = 1,inplace= True)\n",
    "data = data.reset_index(drop=True)"
   ]
  },
  {
   "cell_type": "code",
   "execution_count": null,
   "metadata": {},
   "outputs": [],
   "source": [
    "from sklearn.preprocessing import StandardScaler\n",
    "from sklearn.neural_network import MLPRegressor\n",
    "from sklearn.pipeline import make_pipeline\n",
    " \n",
    "from sklearn.datasets import load_diabetes\n",
    "from sklearn.model_selection import train_test_split"
   ]
  },
  {
   "cell_type": "code",
   "execution_count": null,
   "id": "314a1d38",
   "metadata": {},
   "outputs": [],
   "source": [
    "# 特征标准化\n",
    "data_norm = (data - data.mean()) / data.std()\n",
    "# data_norm = data_norm.iloc[:, 1:]\n",
    "data_norm = data_norm.astype('float32')\n",
    "start_sclice=540\n",
    "# 构建自编码器模型\n",
    "data_norm_train = pd.concat([data_norm[:start_sclice],data_norm[start_sclice+300:]],ignore_index=True)\n",
    "data_norm_test = data_norm[start_sclice:start_sclice+300]\n",
    "# data_norm_train,data_norm_test = train_test_split(data_norm,test_size=0.2)"
   ]
  },
  {
   "cell_type": "code",
   "execution_count": null,
   "id": "66464400",
   "metadata": {},
   "outputs": [],
   "source": [
    "input_dim = data_norm.shape[1]\n",
    "encoding_dim = 5\n",
    "input_layer = tf.keras.layers.Input(shape=(input_dim,))\n",
    "encoder = Dense(8, activation=\"relu\",\n",
    "                activity_regularizer=regularizers.l1(10e-7))(input_layer)\n",
    "\n",
    "encoder = Dense(5, activation=\"relu\",\n",
    "                kernel_regularizer=regularizers.l2(10e-7))(encoder)\n",
    "\n",
    "encoder = Dense(3, activation='relu',\n",
    "                kernel_regularizer=regularizers.l2(10e-7))(encoder)\n",
    "decoder = Dense(5, activation='relu',\n",
    "                kernel_regularizer=regularizers.l2(10e-7))(encoder)\n",
    "decoder = Dense(8, activation='relu',\n",
    "                kernel_regularizer=regularizers.l2(10e-7))(decoder)\n",
    "\n",
    "decoder = Dense(input_dim, activation='sigmoid',\n",
    "                kernel_regularizer=regularizers.l2(10e-7))(decoder)\n",
    "\n",
    "autoencoder = tf.keras.Model(inputs=input_layer, outputs=decoder)\n",
    "autoencoder.compile(\n",
    "    optimizer='adam', loss='mean_squared_error', metrics=['mse'])\n",
    "# 训练自编码器模型\n",
    "earlystopper = EarlyStopping(monitor='val_loss', patience=20, verbose=1)\n",
    "history = autoencoder.fit(data_norm_train,data_norm_train, epochs=50, batch_size=11, shuffle=True, validation_data=(data_norm_train, data_norm_train), callbacks=[earlystopper])\n",
    "# 使用自编码器模型对数据进行预测\n",
    "reconstructed_data = autoencoder.predict(data_norm_test)\n",
    "\n"
   ]
  },
  {
   "cell_type": "code",
   "execution_count": null,
   "id": "6fd7ef09",
   "metadata": {},
   "outputs": [],
   "source": [
    "\n",
    "# 计算重构误差\n",
    "mse = np.mean(np.power(data_norm_test - reconstructed_data, 2), axis=1)\n",
    "# 使用SHAP库计算SHAP值\n",
    "background_set = shap.sample(data_norm,100)\n",
    "explainer = shap.KernelExplainer(autoencoder,background_set,n_jobs = -1)\n",
    "threshold = np.percentile(mse, 97)\n",
    "anomalies = np.where(mse > threshold)[0]\n",
    "need2explained = data_norm.iloc[[start_sclice + i for i in anomalies]]\n",
    "shap_values = explainer.shap_values(need2explained)\n",
    "# 可视化SHAP值\n",
    "shap.summary_plot(shap_values, need2explained)\n",
    "nshap_values = np.array(shap_values)\n",
    "# 结合SHAP值和重构误差来检测异常值\n",
    "print(anomalies)\n",
    "\n"
   ]
  },
  {
   "cell_type": "code",
   "execution_count": null,
   "id": "f66220a0",
   "metadata": {},
   "outputs": [],
   "source": [
    "data.iloc[[start_sclice + i for i in anomalies]]\n"
   ]
  },
  {
   "cell_type": "markdown",
   "id": "3878d505",
   "metadata": {},
   "source": []
  },
  {
   "cell_type": "code",
   "execution_count": null,
   "id": "03d98c67",
   "metadata": {},
   "outputs": [],
   "source": [
    "shap.summary_plot(nshap_values[:,0,:],need2explained,plot_type='bar')"
   ]
  },
  {
   "cell_type": "code",
   "execution_count": null,
   "id": "dc770c87",
   "metadata": {},
   "outputs": [],
   "source": [
    "ad_result =data.iloc[[start_sclice + i for i in anomalies]]\n",
    "ad_result.to_excel('test1.xlsx',sheet_name='Sheet1',index=False)"
   ]
  },
  {
   "cell_type": "code",
   "execution_count": null,
   "metadata": {},
   "outputs": [],
   "source": [
    "for i in range(8):\n",
    "    plt.title(f\"{i+1}\")\n",
    "    shap.summary_plot(nshap_values[:,i,:],need2explained,plot_type='bar',show = False,title=\"SHAP_value\",auto_size_plot=None)\n",
    "    plt.savefig(f'image_{i}.svg',bbox_inches='tight')"
   ]
  },
  {
   "cell_type": "code",
   "execution_count": null,
   "id": "bd373ada",
   "metadata": {},
   "outputs": [],
   "source": [
    "images = []\n",
    "for i in range(8):\n",
    "    img = plt.imread(f\"image_{i}.svg\")\n",
    "    images.append(img)\n",
    "# 定义画布和子图\n",
    "fig, axs = plt.subplots(nrows=5,ncols=2,figsize=(1,2))\n",
    "plt.subplots_adjust(wspace=0.001,hspace=0.001)\n",
    "# 在子图中画出每张图片\n",
    "for i, ax in enumerate(axs.flat):\n",
    "    if i < len(images):\n",
    "        ax.imshow(images[i])\n",
    "        # ax.text(0.5, -0.1, f\"{i+1}\", transform=ax.transAxes,\n",
    "        #         fontsize=12, ha='center')\n",
    "    ax.axis('off')\n",
    "plt.tight_layout\n",
    "plt.savefig(\"most_8.svg\",format=\"svg\")"
   ]
  },
  {
   "cell_type": "code",
   "execution_count": null,
   "id": "d92f6667",
   "metadata": {},
   "outputs": [],
   "source": [
    "fig, ax = plt.subplots(figsize=(8, 8))\n",
    "ax.plot(history.history['loss'], 'b', label='训练曲线', linewidth=3)\n",
    "ax.plot(history.history['val_loss'], 'r', label='测试曲线', linewidth=3)\n",
    "# ax.set_title('Model loss', fontsize=16)\n",
    "ax.set_ylabel('损失率',fontsize=14)\n",
    "ax.set_xlabel('迭代次数'fontsize=14)\n",
    "ax.legend(loc='upper right',fontsize=12)\n",
    "plt.savefig(r'F:\\loss.png')\n",
    "plt.show()"
   ]
  },
  {
   "cell_type": "code",
   "execution_count": null,
   "id": "f55438fb",
   "metadata": {},
   "outputs": [],
   "source": [
    "plt.plot(history.history['loss'], label='Training Loss')\n",
    "plt.plot(history.history['val_loss'], label='Validation Loss')\n",
    "plt.xlabel('Epoch')\n",
    "plt.ylabel('Loss')\n",
    "plt.legend()\n",
    "plt.show()\n"
   ]
  },
  {
   "cell_type": "markdown",
   "id": "42a024b4",
   "metadata": {},
   "source": []
  }
 ],
 "metadata": {
  "kernelspec": {
   "display_name": "Python 3.9.13 ('tfnew')",
   "language": "python",
   "name": "python3"
  },
  "language_info": {
   "codemirror_mode": {
    "name": "ipython",
    "version": 3
   },
   "file_extension": ".py",
   "mimetype": "text/x-python",
   "name": "python",
   "nbconvert_exporter": "python",
   "pygments_lexer": "ipython3",
   "version": "3.9.13"
  },
  "vscode": {
   "interpreter": {
    "hash": "fc3abe38863ef88413f842fb3c3f7bc95ade44ae39a00cfe5ba59cf9a31447a1"
   }
  }
 },
 "nbformat": 4,
 "nbformat_minor": 5
}
