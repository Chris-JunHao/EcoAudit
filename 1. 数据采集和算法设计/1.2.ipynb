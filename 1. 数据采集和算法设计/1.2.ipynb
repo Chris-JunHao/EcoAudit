{
 "cells": [
  {
   "cell_type": "code",
   "execution_count": 2,
   "metadata": {},
   "outputs": [
    {
     "ename": "KeyError",
     "evalue": "'your_column'",
     "output_type": "error",
     "traceback": [
      "\u001b[0;31m---------------------------------------------------------------------------\u001b[0m",
      "\u001b[0;31mKeyError\u001b[0m                                  Traceback (most recent call last)",
      "File \u001b[0;32m/opt/homebrew/anaconda3/envs/block_b/lib/python3.9/site-packages/pandas/core/indexes/base.py:3805\u001b[0m, in \u001b[0;36mIndex.get_loc\u001b[0;34m(self, key)\u001b[0m\n\u001b[1;32m   3804\u001b[0m \u001b[39mtry\u001b[39;00m:\n\u001b[0;32m-> 3805\u001b[0m     \u001b[39mreturn\u001b[39;00m \u001b[39mself\u001b[39;49m\u001b[39m.\u001b[39;49m_engine\u001b[39m.\u001b[39;49mget_loc(casted_key)\n\u001b[1;32m   3806\u001b[0m \u001b[39mexcept\u001b[39;00m \u001b[39mKeyError\u001b[39;00m \u001b[39mas\u001b[39;00m err:\n",
      "File \u001b[0;32mindex.pyx:167\u001b[0m, in \u001b[0;36mpandas._libs.index.IndexEngine.get_loc\u001b[0;34m()\u001b[0m\n",
      "File \u001b[0;32mindex.pyx:196\u001b[0m, in \u001b[0;36mpandas._libs.index.IndexEngine.get_loc\u001b[0;34m()\u001b[0m\n",
      "File \u001b[0;32mpandas/_libs/hashtable_class_helper.pxi:7081\u001b[0m, in \u001b[0;36mpandas._libs.hashtable.PyObjectHashTable.get_item\u001b[0;34m()\u001b[0m\n",
      "File \u001b[0;32mpandas/_libs/hashtable_class_helper.pxi:7089\u001b[0m, in \u001b[0;36mpandas._libs.hashtable.PyObjectHashTable.get_item\u001b[0;34m()\u001b[0m\n",
      "\u001b[0;31mKeyError\u001b[0m: 'your_column'",
      "\nThe above exception was the direct cause of the following exception:\n",
      "\u001b[0;31mKeyError\u001b[0m                                  Traceback (most recent call last)",
      "\u001b[1;32m/Users/tang/Documents/GitHub/EcoAudit/1. 数据采集和算法设计/1.2.ipynb 单元格 1\u001b[0m line \u001b[0;36m1\n\u001b[1;32m      <a href='vscode-notebook-cell:/Users/tang/Documents/GitHub/EcoAudit/1.%20%E6%95%B0%E6%8D%AE%E9%87%87%E9%9B%86%E5%92%8C%E7%AE%97%E6%B3%95%E8%AE%BE%E8%AE%A1/1.2.ipynb#W0sZmlsZQ%3D%3D?line=7'>8</a>\u001b[0m max_threshold \u001b[39m=\u001b[39m \u001b[39m1000\u001b[39m  \u001b[39m# 例如：最大值\u001b[39;00m\n\u001b[1;32m     <a href='vscode-notebook-cell:/Users/tang/Documents/GitHub/EcoAudit/1.%20%E6%95%B0%E6%8D%AE%E9%87%87%E9%9B%86%E5%92%8C%E7%AE%97%E6%B3%95%E8%AE%BE%E8%AE%A1/1.2.ipynb#W0sZmlsZQ%3D%3D?line=9'>10</a>\u001b[0m \u001b[39m# 标记异常数据\u001b[39;00m\n\u001b[0;32m---> <a href='vscode-notebook-cell:/Users/tang/Documents/GitHub/EcoAudit/1.%20%E6%95%B0%E6%8D%AE%E9%87%87%E9%9B%86%E5%92%8C%E7%AE%97%E6%B3%95%E8%AE%BE%E8%AE%A1/1.2.ipynb#W0sZmlsZQ%3D%3D?line=10'>11</a>\u001b[0m data[\u001b[39m'\u001b[39m\u001b[39mis_anomaly\u001b[39m\u001b[39m'\u001b[39m] \u001b[39m=\u001b[39m (data[\u001b[39m'\u001b[39;49m\u001b[39myour_column\u001b[39;49m\u001b[39m'\u001b[39;49m] \u001b[39m<\u001b[39m min_threshold) \u001b[39m|\u001b[39m (data[\u001b[39m'\u001b[39m\u001b[39myour_column\u001b[39m\u001b[39m'\u001b[39m] \u001b[39m>\u001b[39m max_threshold)\n\u001b[1;32m     <a href='vscode-notebook-cell:/Users/tang/Documents/GitHub/EcoAudit/1.%20%E6%95%B0%E6%8D%AE%E9%87%87%E9%9B%86%E5%92%8C%E7%AE%97%E6%B3%95%E8%AE%BE%E8%AE%A1/1.2.ipynb#W0sZmlsZQ%3D%3D?line=12'>13</a>\u001b[0m \u001b[39m# 输出异常数据\u001b[39;00m\n\u001b[1;32m     <a href='vscode-notebook-cell:/Users/tang/Documents/GitHub/EcoAudit/1.%20%E6%95%B0%E6%8D%AE%E9%87%87%E9%9B%86%E5%92%8C%E7%AE%97%E6%B3%95%E8%AE%BE%E8%AE%A1/1.2.ipynb#W0sZmlsZQ%3D%3D?line=13'>14</a>\u001b[0m anomalies \u001b[39m=\u001b[39m data[data[\u001b[39m'\u001b[39m\u001b[39mis_anomaly\u001b[39m\u001b[39m'\u001b[39m] \u001b[39m==\u001b[39m \u001b[39mTrue\u001b[39;00m]\n",
      "File \u001b[0;32m/opt/homebrew/anaconda3/envs/block_b/lib/python3.9/site-packages/pandas/core/frame.py:4102\u001b[0m, in \u001b[0;36mDataFrame.__getitem__\u001b[0;34m(self, key)\u001b[0m\n\u001b[1;32m   4100\u001b[0m \u001b[39mif\u001b[39;00m \u001b[39mself\u001b[39m\u001b[39m.\u001b[39mcolumns\u001b[39m.\u001b[39mnlevels \u001b[39m>\u001b[39m \u001b[39m1\u001b[39m:\n\u001b[1;32m   4101\u001b[0m     \u001b[39mreturn\u001b[39;00m \u001b[39mself\u001b[39m\u001b[39m.\u001b[39m_getitem_multilevel(key)\n\u001b[0;32m-> 4102\u001b[0m indexer \u001b[39m=\u001b[39m \u001b[39mself\u001b[39;49m\u001b[39m.\u001b[39;49mcolumns\u001b[39m.\u001b[39;49mget_loc(key)\n\u001b[1;32m   4103\u001b[0m \u001b[39mif\u001b[39;00m is_integer(indexer):\n\u001b[1;32m   4104\u001b[0m     indexer \u001b[39m=\u001b[39m [indexer]\n",
      "File \u001b[0;32m/opt/homebrew/anaconda3/envs/block_b/lib/python3.9/site-packages/pandas/core/indexes/base.py:3812\u001b[0m, in \u001b[0;36mIndex.get_loc\u001b[0;34m(self, key)\u001b[0m\n\u001b[1;32m   3807\u001b[0m     \u001b[39mif\u001b[39;00m \u001b[39misinstance\u001b[39m(casted_key, \u001b[39mslice\u001b[39m) \u001b[39mor\u001b[39;00m (\n\u001b[1;32m   3808\u001b[0m         \u001b[39misinstance\u001b[39m(casted_key, abc\u001b[39m.\u001b[39mIterable)\n\u001b[1;32m   3809\u001b[0m         \u001b[39mand\u001b[39;00m \u001b[39many\u001b[39m(\u001b[39misinstance\u001b[39m(x, \u001b[39mslice\u001b[39m) \u001b[39mfor\u001b[39;00m x \u001b[39min\u001b[39;00m casted_key)\n\u001b[1;32m   3810\u001b[0m     ):\n\u001b[1;32m   3811\u001b[0m         \u001b[39mraise\u001b[39;00m InvalidIndexError(key)\n\u001b[0;32m-> 3812\u001b[0m     \u001b[39mraise\u001b[39;00m \u001b[39mKeyError\u001b[39;00m(key) \u001b[39mfrom\u001b[39;00m \u001b[39merr\u001b[39;00m\n\u001b[1;32m   3813\u001b[0m \u001b[39mexcept\u001b[39;00m \u001b[39mTypeError\u001b[39;00m:\n\u001b[1;32m   3814\u001b[0m     \u001b[39m# If we have a listlike key, _check_indexing_error will raise\u001b[39;00m\n\u001b[1;32m   3815\u001b[0m     \u001b[39m#  InvalidIndexError. Otherwise we fall through and re-raise\u001b[39;00m\n\u001b[1;32m   3816\u001b[0m     \u001b[39m#  the TypeError.\u001b[39;00m\n\u001b[1;32m   3817\u001b[0m     \u001b[39mself\u001b[39m\u001b[39m.\u001b[39m_check_indexing_error(key)\n",
      "\u001b[0;31mKeyError\u001b[0m: 'your_column'"
     ]
    }
   ],
   "source": [
    "import pandas as pd\n",
    "\n",
    "# 读取CSV文件\n",
    "data = pd.read_csv('../data/air/城市_20220101-20221231/china_cities_20220101.csv')\n",
    "\n",
    "# 设定最小和最大阈值（根据文献中不同监测参数的设定）\n",
    "min_threshold = 0  # 例如：最小值\n",
    "max_threshold = 1000  # 例如：最大值\n",
    "\n",
    "# 标记异常数据\n",
    "data['is_anomaly'] = (data['your_column'] < min_threshold) | (data['your_column'] > max_threshold)\n",
    "\n",
    "# 输出异常数据\n",
    "anomalies = data[data['is_anomaly'] == True]\n",
    "print(anomalies)"
   ]
  },
  {
   "cell_type": "code",
   "execution_count": null,
   "metadata": {},
   "outputs": [],
   "source": []
  }
 ],
 "metadata": {
  "kernelspec": {
   "display_name": "block_b",
   "language": "python",
   "name": "python3"
  },
  "language_info": {
   "codemirror_mode": {
    "name": "ipython",
    "version": 3
   },
   "file_extension": ".py",
   "mimetype": "text/x-python",
   "name": "python",
   "nbconvert_exporter": "python",
   "pygments_lexer": "ipython3",
   "version": "3.9.19"
  }
 },
 "nbformat": 4,
 "nbformat_minor": 2
}
