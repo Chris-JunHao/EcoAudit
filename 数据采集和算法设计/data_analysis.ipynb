{
 "cells": [
  {
   "cell_type": "markdown",
   "metadata": {},
   "source": [
    "## 1. 导入必要的库"
   ]
  },
  {
   "cell_type": "code",
   "execution_count": 11,
   "metadata": {},
   "outputs": [],
   "source": [
    "import pandas as pd\n",
    "import numpy as np\n",
    "import matplotlib.pyplot as plt\n",
    "import seaborn as sns"
   ]
  },
  {
   "cell_type": "markdown",
   "metadata": {},
   "source": [
    "## 2. 读取数据"
   ]
  },
  {
   "cell_type": "markdown",
   "metadata": {},
   "source": [
    "使用 pandas 库加载 CSV 文件："
   ]
  },
  {
   "cell_type": "code",
   "execution_count": 12,
   "metadata": {},
   "outputs": [
    {
     "data": {
      "text/html": [
       "<div>\n",
       "<style scoped>\n",
       "    .dataframe tbody tr th:only-of-type {\n",
       "        vertical-align: middle;\n",
       "    }\n",
       "\n",
       "    .dataframe tbody tr th {\n",
       "        vertical-align: top;\n",
       "    }\n",
       "\n",
       "    .dataframe thead th {\n",
       "        text-align: right;\n",
       "    }\n",
       "</style>\n",
       "<table border=\"1\" class=\"dataframe\">\n",
       "  <thead>\n",
       "    <tr style=\"text-align: right;\">\n",
       "      <th></th>\n",
       "      <th>date</th>\n",
       "      <th>hour</th>\n",
       "      <th>type</th>\n",
       "      <th>北京</th>\n",
       "      <th>天津</th>\n",
       "      <th>石家庄</th>\n",
       "      <th>唐山</th>\n",
       "      <th>秦皇岛</th>\n",
       "      <th>邯郸</th>\n",
       "      <th>保定</th>\n",
       "      <th>...</th>\n",
       "      <th>塔城地区</th>\n",
       "      <th>阿勒泰地区</th>\n",
       "      <th>石河子</th>\n",
       "      <th>五家渠</th>\n",
       "      <th>三沙</th>\n",
       "      <th>兰州新区</th>\n",
       "      <th>赣江新区</th>\n",
       "      <th>儋州</th>\n",
       "      <th>雄安新区</th>\n",
       "      <th>西咸新区</th>\n",
       "    </tr>\n",
       "  </thead>\n",
       "  <tbody>\n",
       "    <tr>\n",
       "      <th>0</th>\n",
       "      <td>20220103</td>\n",
       "      <td>0</td>\n",
       "      <td>AQI</td>\n",
       "      <td>46.0</td>\n",
       "      <td>64.0</td>\n",
       "      <td>64.0</td>\n",
       "      <td>67.0</td>\n",
       "      <td>59.0</td>\n",
       "      <td>70.0</td>\n",
       "      <td>58.0</td>\n",
       "      <td>...</td>\n",
       "      <td>23.0</td>\n",
       "      <td>18.0</td>\n",
       "      <td>256.0</td>\n",
       "      <td>350.0</td>\n",
       "      <td>NaN</td>\n",
       "      <td>67.0</td>\n",
       "      <td>79.0</td>\n",
       "      <td>63.0</td>\n",
       "      <td>70.0</td>\n",
       "      <td>218.0</td>\n",
       "    </tr>\n",
       "    <tr>\n",
       "      <th>1</th>\n",
       "      <td>20220103</td>\n",
       "      <td>0</td>\n",
       "      <td>PM2.5</td>\n",
       "      <td>23.0</td>\n",
       "      <td>29.0</td>\n",
       "      <td>34.0</td>\n",
       "      <td>34.0</td>\n",
       "      <td>32.0</td>\n",
       "      <td>51.0</td>\n",
       "      <td>34.0</td>\n",
       "      <td>...</td>\n",
       "      <td>16.0</td>\n",
       "      <td>10.0</td>\n",
       "      <td>206.0</td>\n",
       "      <td>300.0</td>\n",
       "      <td>NaN</td>\n",
       "      <td>40.0</td>\n",
       "      <td>58.0</td>\n",
       "      <td>45.0</td>\n",
       "      <td>42.0</td>\n",
       "      <td>168.0</td>\n",
       "    </tr>\n",
       "    <tr>\n",
       "      <th>2</th>\n",
       "      <td>20220103</td>\n",
       "      <td>0</td>\n",
       "      <td>PM2.5_24h</td>\n",
       "      <td>13.0</td>\n",
       "      <td>14.0</td>\n",
       "      <td>28.0</td>\n",
       "      <td>16.0</td>\n",
       "      <td>21.0</td>\n",
       "      <td>45.0</td>\n",
       "      <td>17.0</td>\n",
       "      <td>...</td>\n",
       "      <td>17.0</td>\n",
       "      <td>5.0</td>\n",
       "      <td>163.0</td>\n",
       "      <td>272.0</td>\n",
       "      <td>NaN</td>\n",
       "      <td>51.0</td>\n",
       "      <td>58.0</td>\n",
       "      <td>31.0</td>\n",
       "      <td>15.0</td>\n",
       "      <td>93.0</td>\n",
       "    </tr>\n",
       "    <tr>\n",
       "      <th>3</th>\n",
       "      <td>20220103</td>\n",
       "      <td>0</td>\n",
       "      <td>PM10</td>\n",
       "      <td>46.0</td>\n",
       "      <td>77.0</td>\n",
       "      <td>77.0</td>\n",
       "      <td>84.0</td>\n",
       "      <td>68.0</td>\n",
       "      <td>84.0</td>\n",
       "      <td>65.0</td>\n",
       "      <td>...</td>\n",
       "      <td>23.0</td>\n",
       "      <td>2.0</td>\n",
       "      <td>345.0</td>\n",
       "      <td>442.0</td>\n",
       "      <td>NaN</td>\n",
       "      <td>84.0</td>\n",
       "      <td>108.0</td>\n",
       "      <td>59.0</td>\n",
       "      <td>89.0</td>\n",
       "      <td>161.0</td>\n",
       "    </tr>\n",
       "    <tr>\n",
       "      <th>4</th>\n",
       "      <td>20220103</td>\n",
       "      <td>0</td>\n",
       "      <td>PM10_24h</td>\n",
       "      <td>29.0</td>\n",
       "      <td>36.0</td>\n",
       "      <td>56.0</td>\n",
       "      <td>40.0</td>\n",
       "      <td>46.0</td>\n",
       "      <td>73.0</td>\n",
       "      <td>41.0</td>\n",
       "      <td>...</td>\n",
       "      <td>31.0</td>\n",
       "      <td>8.0</td>\n",
       "      <td>269.0</td>\n",
       "      <td>421.0</td>\n",
       "      <td>NaN</td>\n",
       "      <td>91.0</td>\n",
       "      <td>105.0</td>\n",
       "      <td>48.0</td>\n",
       "      <td>47.0</td>\n",
       "      <td>116.0</td>\n",
       "    </tr>\n",
       "  </tbody>\n",
       "</table>\n",
       "<p>5 rows × 378 columns</p>\n",
       "</div>"
      ],
      "text/plain": [
       "       date  hour       type    北京    天津   石家庄    唐山   秦皇岛    邯郸    保定  ...  \\\n",
       "0  20220103     0        AQI  46.0  64.0  64.0  67.0  59.0  70.0  58.0  ...   \n",
       "1  20220103     0      PM2.5  23.0  29.0  34.0  34.0  32.0  51.0  34.0  ...   \n",
       "2  20220103     0  PM2.5_24h  13.0  14.0  28.0  16.0  21.0  45.0  17.0  ...   \n",
       "3  20220103     0       PM10  46.0  77.0  77.0  84.0  68.0  84.0  65.0  ...   \n",
       "4  20220103     0   PM10_24h  29.0  36.0  56.0  40.0  46.0  73.0  41.0  ...   \n",
       "\n",
       "   塔城地区  阿勒泰地区    石河子    五家渠  三沙  兰州新区   赣江新区    儋州  雄安新区   西咸新区  \n",
       "0  23.0   18.0  256.0  350.0 NaN  67.0   79.0  63.0  70.0  218.0  \n",
       "1  16.0   10.0  206.0  300.0 NaN  40.0   58.0  45.0  42.0  168.0  \n",
       "2  17.0    5.0  163.0  272.0 NaN  51.0   58.0  31.0  15.0   93.0  \n",
       "3  23.0    2.0  345.0  442.0 NaN  84.0  108.0  59.0  89.0  161.0  \n",
       "4  31.0    8.0  269.0  421.0 NaN  91.0  105.0  48.0  47.0  116.0  \n",
       "\n",
       "[5 rows x 378 columns]"
      ]
     },
     "execution_count": 12,
     "metadata": {},
     "output_type": "execute_result"
    }
   ],
   "source": [
    "# 读取数据\n",
    "data = pd.read_csv('../data/air/城市_20220101-20221231/china_cities_20220103.csv')\n",
    "\n",
    "# 查看数据前5行\n",
    "data.head()"
   ]
  },
  {
   "cell_type": "markdown",
   "metadata": {},
   "source": [
    "## 3. 基本数据统计分析"
   ]
  },
  {
   "cell_type": "markdown",
   "metadata": {},
   "source": [
    "通过 describe() 方法可以生成数据的基本统计信息，包括均值、标准差、最小值、最大值等："
   ]
  },
  {
   "cell_type": "code",
   "execution_count": 13,
   "metadata": {},
   "outputs": [
    {
     "name": "stdout",
     "output_type": "stream",
     "text": [
      "             date        hour          北京          天津         石家庄          唐山  \\\n",
      "count       360.0  360.000000  360.000000  360.000000  360.000000  360.000000   \n",
      "mean   20220103.0   11.500000   25.527889   33.592472   34.151056   35.402278   \n",
      "std           0.0    6.931821   19.578860   26.643498   29.092878   28.944640   \n",
      "min    20220103.0    0.000000    0.320000    0.550000    0.420000    0.670000   \n",
      "25%    20220103.0    5.750000    3.000000    8.000000    8.000000    8.000000   \n",
      "50%    20220103.0   11.500000   24.000000   33.500000   30.500000   33.000000   \n",
      "75%    20220103.0   17.250000   44.000000   56.250000   57.250000   58.250000   \n",
      "max    20220103.0   23.000000   64.000000  110.000000  135.000000  120.000000   \n",
      "\n",
      "              秦皇岛          邯郸          保定         张家口  ...        塔城地区  \\\n",
      "count  360.000000  360.000000  360.000000  360.000000  ...  356.000000   \n",
      "mean    35.156972   43.423611   35.314306   28.639056  ...   29.346910   \n",
      "std     23.246978   33.362452   28.475989   21.989994  ...   32.466649   \n",
      "min      0.420000    0.720000    0.440000    0.300000  ...    0.100000   \n",
      "25%     15.000000   13.000000    9.000000    8.000000  ...    3.000000   \n",
      "50%     34.500000   39.000000   33.000000   24.000000  ...   15.000000   \n",
      "75%     56.000000   65.000000   59.250000   44.000000  ...   55.000000   \n",
      "max     84.000000  130.000000  135.000000   80.000000  ...  266.000000   \n",
      "\n",
      "            阿勒泰地区         石河子         五家渠   三沙        兰州新区        赣江新区  \\\n",
      "count  356.000000  360.000000  360.000000  0.0  360.000000  360.000000   \n",
      "mean    26.679494  115.267222  127.260139  NaN   43.870417   57.926389   \n",
      "std     31.649958  131.551557  157.384646  NaN   26.692944   53.354916   \n",
      "min      0.100000    1.770000    1.000000  NaN    0.600000    0.600000   \n",
      "25%      3.000000   11.000000    4.000000  NaN   29.000000   10.000000   \n",
      "50%      8.500000   39.000000   29.000000  NaN   40.500000   52.000000   \n",
      "75%     58.500000  224.750000  274.000000  NaN   64.250000   98.000000   \n",
      "max     90.000000  489.000000  476.000000  NaN  136.000000  370.000000   \n",
      "\n",
      "               儋州        雄安新区        西咸新区  \n",
      "count  360.000000  360.000000  360.000000  \n",
      "mean    38.277083   39.506111   69.287500  \n",
      "std     38.810872   33.266067   62.642675  \n",
      "min      0.350000    0.500000    1.100000  \n",
      "25%      6.000000    9.000000   11.000000  \n",
      "50%     27.000000   37.000000   51.000000  \n",
      "75%     61.250000   63.000000  126.250000  \n",
      "max    115.000000  132.000000  284.000000  \n",
      "\n",
      "[8 rows x 377 columns]\n"
     ]
    }
   ],
   "source": [
    "# 基本统计分析\n",
    "data_statistics = data.describe()\n",
    "print(data_statistics)"
   ]
  },
  {
   "cell_type": "markdown",
   "metadata": {},
   "source": [
    "## 4. 处理缺失值"
   ]
  },
  {
   "cell_type": "markdown",
   "metadata": {},
   "source": [
    "缺失数据（NaN 值）在环境监测数据中比较常见。可以选择用列的均值填充缺失值："
   ]
  },
  {
   "cell_type": "code",
   "execution_count": 14,
   "metadata": {},
   "outputs": [
    {
     "ename": "TypeError",
     "evalue": "Could not convert ['AQIPM2.5PM2.5_24hPM10PM10_24hSO2SO2_24hNO2NO2_24hO3O3_24hO3_8hO3_8h_24hCOCO_24hAQIPM2.5PM2.5_24hPM10PM10_24hSO2SO2_24hNO2NO2_24hO3O3_24hO3_8hO3_8h_24hCOCO_24hAQIPM2.5PM2.5_24hPM10PM10_24hSO2SO2_24hNO2NO2_24hO3O3_24hO3_8hO3_8h_24hCOCO_24hAQIPM2.5PM2.5_24hPM10PM10_24hSO2SO2_24hNO2NO2_24hO3O3_24hO3_8hO3_8h_24hCOCO_24hAQIPM2.5PM2.5_24hPM10PM10_24hSO2SO2_24hNO2NO2_24hO3O3_24hO3_8hO3_8h_24hCOCO_24hAQIPM2.5PM2.5_24hPM10PM10_24hSO2SO2_24hNO2NO2_24hO3O3_24hO3_8hO3_8h_24hCOCO_24hAQIPM2.5PM2.5_24hPM10PM10_24hSO2SO2_24hNO2NO2_24hO3O3_24hO3_8hO3_8h_24hCOCO_24hAQIPM2.5PM2.5_24hPM10PM10_24hSO2SO2_24hNO2NO2_24hO3O3_24hO3_8hO3_8h_24hCOCO_24hAQIPM2.5PM2.5_24hPM10PM10_24hSO2SO2_24hNO2NO2_24hO3O3_24hO3_8hO3_8h_24hCOCO_24hAQIPM2.5PM2.5_24hPM10PM10_24hSO2SO2_24hNO2NO2_24hO3O3_24hO3_8hO3_8h_24hCOCO_24hAQIPM2.5PM2.5_24hPM10PM10_24hSO2SO2_24hNO2NO2_24hO3O3_24hO3_8hO3_8h_24hCOCO_24hAQIPM2.5PM2.5_24hPM10PM10_24hSO2SO2_24hNO2NO2_24hO3O3_24hO3_8hO3_8h_24hCOCO_24hAQIPM2.5PM2.5_24hPM10PM10_24hSO2SO2_24hNO2NO2_24hO3O3_24hO3_8hO3_8h_24hCOCO_24hAQIPM2.5PM2.5_24hPM10PM10_24hSO2SO2_24hNO2NO2_24hO3O3_24hO3_8hO3_8h_24hCOCO_24hAQIPM2.5PM2.5_24hPM10PM10_24hSO2SO2_24hNO2NO2_24hO3O3_24hO3_8hO3_8h_24hCOCO_24hAQIPM2.5PM2.5_24hPM10PM10_24hSO2SO2_24hNO2NO2_24hO3O3_24hO3_8hO3_8h_24hCOCO_24hAQIPM2.5PM2.5_24hPM10PM10_24hSO2SO2_24hNO2NO2_24hO3O3_24hO3_8hO3_8h_24hCOCO_24hAQIPM2.5PM2.5_24hPM10PM10_24hSO2SO2_24hNO2NO2_24hO3O3_24hO3_8hO3_8h_24hCOCO_24hAQIPM2.5PM2.5_24hPM10PM10_24hSO2SO2_24hNO2NO2_24hO3O3_24hO3_8hO3_8h_24hCOCO_24hAQIPM2.5PM2.5_24hPM10PM10_24hSO2SO2_24hNO2NO2_24hO3O3_24hO3_8hO3_8h_24hCOCO_24hAQIPM2.5PM2.5_24hPM10PM10_24hSO2SO2_24hNO2NO2_24hO3O3_24hO3_8hO3_8h_24hCOCO_24hAQIPM2.5PM2.5_24hPM10PM10_24hSO2SO2_24hNO2NO2_24hO3O3_24hO3_8hO3_8h_24hCOCO_24hAQIPM2.5PM2.5_24hPM10PM10_24hSO2SO2_24hNO2NO2_24hO3O3_24hO3_8hO3_8h_24hCOCO_24hAQIPM2.5PM2.5_24hPM10PM10_24hSO2SO2_24hNO2NO2_24hO3O3_24hO3_8hO3_8h_24hCOCO_24h'] to numeric",
     "output_type": "error",
     "traceback": [
      "\u001b[0;31m---------------------------------------------------------------------------\u001b[0m",
      "\u001b[0;31mTypeError\u001b[0m                                 Traceback (most recent call last)",
      "\u001b[1;32m/Users/tang/Documents/GitHub/EcoAudit/数据采集和算法设计/data_analysis.ipynb 单元格 11\u001b[0m line \u001b[0;36m2\n\u001b[1;32m      <a href='vscode-notebook-cell:/Users/tang/Documents/GitHub/EcoAudit/%E6%95%B0%E6%8D%AE%E9%87%87%E9%9B%86%E5%92%8C%E7%AE%97%E6%B3%95%E8%AE%BE%E8%AE%A1/data_analysis.ipynb#X23sZmlsZQ%3D%3D?line=0'>1</a>\u001b[0m \u001b[39m# 用列的均值填充缺失值\u001b[39;00m\n\u001b[0;32m----> <a href='vscode-notebook-cell:/Users/tang/Documents/GitHub/EcoAudit/%E6%95%B0%E6%8D%AE%E9%87%87%E9%9B%86%E5%92%8C%E7%AE%97%E6%B3%95%E8%AE%BE%E8%AE%A1/data_analysis.ipynb#X23sZmlsZQ%3D%3D?line=1'>2</a>\u001b[0m data_filled \u001b[39m=\u001b[39m data\u001b[39m.\u001b[39mfillna(data\u001b[39m.\u001b[39;49mmean())\n\u001b[1;32m      <a href='vscode-notebook-cell:/Users/tang/Documents/GitHub/EcoAudit/%E6%95%B0%E6%8D%AE%E9%87%87%E9%9B%86%E5%92%8C%E7%AE%97%E6%B3%95%E8%AE%BE%E8%AE%A1/data_analysis.ipynb#X23sZmlsZQ%3D%3D?line=3'>4</a>\u001b[0m \u001b[39m# 检查填充后的数据\u001b[39;00m\n\u001b[1;32m      <a href='vscode-notebook-cell:/Users/tang/Documents/GitHub/EcoAudit/%E6%95%B0%E6%8D%AE%E9%87%87%E9%9B%86%E5%92%8C%E7%AE%97%E6%B3%95%E8%AE%BE%E8%AE%A1/data_analysis.ipynb#X23sZmlsZQ%3D%3D?line=4'>5</a>\u001b[0m data_filled\u001b[39m.\u001b[39misnull()\u001b[39m.\u001b[39msum()\n",
      "File \u001b[0;32m/opt/homebrew/anaconda3/envs/block_b/lib/python3.9/site-packages/pandas/core/frame.py:11693\u001b[0m, in \u001b[0;36mDataFrame.mean\u001b[0;34m(self, axis, skipna, numeric_only, **kwargs)\u001b[0m\n\u001b[1;32m  11685\u001b[0m \u001b[39m@doc\u001b[39m(make_doc(\u001b[39m\"\u001b[39m\u001b[39mmean\u001b[39m\u001b[39m\"\u001b[39m, ndim\u001b[39m=\u001b[39m\u001b[39m2\u001b[39m))\n\u001b[1;32m  11686\u001b[0m \u001b[39mdef\u001b[39;00m \u001b[39mmean\u001b[39m(\n\u001b[1;32m  11687\u001b[0m     \u001b[39mself\u001b[39m,\n\u001b[0;32m   (...)\u001b[0m\n\u001b[1;32m  11691\u001b[0m     \u001b[39m*\u001b[39m\u001b[39m*\u001b[39mkwargs,\n\u001b[1;32m  11692\u001b[0m ):\n\u001b[0;32m> 11693\u001b[0m     result \u001b[39m=\u001b[39m \u001b[39msuper\u001b[39;49m()\u001b[39m.\u001b[39;49mmean(axis, skipna, numeric_only, \u001b[39m*\u001b[39;49m\u001b[39m*\u001b[39;49mkwargs)\n\u001b[1;32m  11694\u001b[0m     \u001b[39mif\u001b[39;00m \u001b[39misinstance\u001b[39m(result, Series):\n\u001b[1;32m  11695\u001b[0m         result \u001b[39m=\u001b[39m result\u001b[39m.\u001b[39m__finalize__(\u001b[39mself\u001b[39m, method\u001b[39m=\u001b[39m\u001b[39m\"\u001b[39m\u001b[39mmean\u001b[39m\u001b[39m\"\u001b[39m)\n",
      "File \u001b[0;32m/opt/homebrew/anaconda3/envs/block_b/lib/python3.9/site-packages/pandas/core/generic.py:12420\u001b[0m, in \u001b[0;36mNDFrame.mean\u001b[0;34m(self, axis, skipna, numeric_only, **kwargs)\u001b[0m\n\u001b[1;32m  12413\u001b[0m \u001b[39mdef\u001b[39;00m \u001b[39mmean\u001b[39m(\n\u001b[1;32m  12414\u001b[0m     \u001b[39mself\u001b[39m,\n\u001b[1;32m  12415\u001b[0m     axis: Axis \u001b[39m|\u001b[39m \u001b[39mNone\u001b[39;00m \u001b[39m=\u001b[39m \u001b[39m0\u001b[39m,\n\u001b[0;32m   (...)\u001b[0m\n\u001b[1;32m  12418\u001b[0m     \u001b[39m*\u001b[39m\u001b[39m*\u001b[39mkwargs,\n\u001b[1;32m  12419\u001b[0m ) \u001b[39m-\u001b[39m\u001b[39m>\u001b[39m Series \u001b[39m|\u001b[39m \u001b[39mfloat\u001b[39m:\n\u001b[0;32m> 12420\u001b[0m     \u001b[39mreturn\u001b[39;00m \u001b[39mself\u001b[39;49m\u001b[39m.\u001b[39;49m_stat_function(\n\u001b[1;32m  12421\u001b[0m         \u001b[39m\"\u001b[39;49m\u001b[39mmean\u001b[39;49m\u001b[39m\"\u001b[39;49m, nanops\u001b[39m.\u001b[39;49mnanmean, axis, skipna, numeric_only, \u001b[39m*\u001b[39;49m\u001b[39m*\u001b[39;49mkwargs\n\u001b[1;32m  12422\u001b[0m     )\n",
      "File \u001b[0;32m/opt/homebrew/anaconda3/envs/block_b/lib/python3.9/site-packages/pandas/core/generic.py:12377\u001b[0m, in \u001b[0;36mNDFrame._stat_function\u001b[0;34m(self, name, func, axis, skipna, numeric_only, **kwargs)\u001b[0m\n\u001b[1;32m  12373\u001b[0m nv\u001b[39m.\u001b[39mvalidate_func(name, (), kwargs)\n\u001b[1;32m  12375\u001b[0m validate_bool_kwarg(skipna, \u001b[39m\"\u001b[39m\u001b[39mskipna\u001b[39m\u001b[39m\"\u001b[39m, none_allowed\u001b[39m=\u001b[39m\u001b[39mFalse\u001b[39;00m)\n\u001b[0;32m> 12377\u001b[0m \u001b[39mreturn\u001b[39;00m \u001b[39mself\u001b[39;49m\u001b[39m.\u001b[39;49m_reduce(\n\u001b[1;32m  12378\u001b[0m     func, name\u001b[39m=\u001b[39;49mname, axis\u001b[39m=\u001b[39;49maxis, skipna\u001b[39m=\u001b[39;49mskipna, numeric_only\u001b[39m=\u001b[39;49mnumeric_only\n\u001b[1;32m  12379\u001b[0m )\n",
      "File \u001b[0;32m/opt/homebrew/anaconda3/envs/block_b/lib/python3.9/site-packages/pandas/core/frame.py:11562\u001b[0m, in \u001b[0;36mDataFrame._reduce\u001b[0;34m(self, op, name, axis, skipna, numeric_only, filter_type, **kwds)\u001b[0m\n\u001b[1;32m  11558\u001b[0m     df \u001b[39m=\u001b[39m df\u001b[39m.\u001b[39mT\n\u001b[1;32m  11560\u001b[0m \u001b[39m# After possibly _get_data and transposing, we are now in the\u001b[39;00m\n\u001b[1;32m  11561\u001b[0m \u001b[39m#  simple case where we can use BlockManager.reduce\u001b[39;00m\n\u001b[0;32m> 11562\u001b[0m res \u001b[39m=\u001b[39m df\u001b[39m.\u001b[39;49m_mgr\u001b[39m.\u001b[39;49mreduce(blk_func)\n\u001b[1;32m  11563\u001b[0m out \u001b[39m=\u001b[39m df\u001b[39m.\u001b[39m_constructor_from_mgr(res, axes\u001b[39m=\u001b[39mres\u001b[39m.\u001b[39maxes)\u001b[39m.\u001b[39miloc[\u001b[39m0\u001b[39m]\n\u001b[1;32m  11564\u001b[0m \u001b[39mif\u001b[39;00m out_dtype \u001b[39mis\u001b[39;00m \u001b[39mnot\u001b[39;00m \u001b[39mNone\u001b[39;00m \u001b[39mand\u001b[39;00m out\u001b[39m.\u001b[39mdtype \u001b[39m!=\u001b[39m \u001b[39m\"\u001b[39m\u001b[39mboolean\u001b[39m\u001b[39m\"\u001b[39m:\n",
      "File \u001b[0;32m/opt/homebrew/anaconda3/envs/block_b/lib/python3.9/site-packages/pandas/core/internals/managers.py:1500\u001b[0m, in \u001b[0;36mBlockManager.reduce\u001b[0;34m(self, func)\u001b[0m\n\u001b[1;32m   1498\u001b[0m res_blocks: \u001b[39mlist\u001b[39m[Block] \u001b[39m=\u001b[39m []\n\u001b[1;32m   1499\u001b[0m \u001b[39mfor\u001b[39;00m blk \u001b[39min\u001b[39;00m \u001b[39mself\u001b[39m\u001b[39m.\u001b[39mblocks:\n\u001b[0;32m-> 1500\u001b[0m     nbs \u001b[39m=\u001b[39m blk\u001b[39m.\u001b[39;49mreduce(func)\n\u001b[1;32m   1501\u001b[0m     res_blocks\u001b[39m.\u001b[39mextend(nbs)\n\u001b[1;32m   1503\u001b[0m index \u001b[39m=\u001b[39m Index([\u001b[39mNone\u001b[39;00m])  \u001b[39m# placeholder\u001b[39;00m\n",
      "File \u001b[0;32m/opt/homebrew/anaconda3/envs/block_b/lib/python3.9/site-packages/pandas/core/internals/blocks.py:404\u001b[0m, in \u001b[0;36mBlock.reduce\u001b[0;34m(self, func)\u001b[0m\n\u001b[1;32m    398\u001b[0m \u001b[39m@final\u001b[39m\n\u001b[1;32m    399\u001b[0m \u001b[39mdef\u001b[39;00m \u001b[39mreduce\u001b[39m(\u001b[39mself\u001b[39m, func) \u001b[39m-\u001b[39m\u001b[39m>\u001b[39m \u001b[39mlist\u001b[39m[Block]:\n\u001b[1;32m    400\u001b[0m     \u001b[39m# We will apply the function and reshape the result into a single-row\u001b[39;00m\n\u001b[1;32m    401\u001b[0m     \u001b[39m#  Block with the same mgr_locs; squeezing will be done at a higher level\u001b[39;00m\n\u001b[1;32m    402\u001b[0m     \u001b[39massert\u001b[39;00m \u001b[39mself\u001b[39m\u001b[39m.\u001b[39mndim \u001b[39m==\u001b[39m \u001b[39m2\u001b[39m\n\u001b[0;32m--> 404\u001b[0m     result \u001b[39m=\u001b[39m func(\u001b[39mself\u001b[39;49m\u001b[39m.\u001b[39;49mvalues)\n\u001b[1;32m    406\u001b[0m     \u001b[39mif\u001b[39;00m \u001b[39mself\u001b[39m\u001b[39m.\u001b[39mvalues\u001b[39m.\u001b[39mndim \u001b[39m==\u001b[39m \u001b[39m1\u001b[39m:\n\u001b[1;32m    407\u001b[0m         res_values \u001b[39m=\u001b[39m result\n",
      "File \u001b[0;32m/opt/homebrew/anaconda3/envs/block_b/lib/python3.9/site-packages/pandas/core/frame.py:11481\u001b[0m, in \u001b[0;36mDataFrame._reduce.<locals>.blk_func\u001b[0;34m(values, axis)\u001b[0m\n\u001b[1;32m  11479\u001b[0m         \u001b[39mreturn\u001b[39;00m np\u001b[39m.\u001b[39marray([result])\n\u001b[1;32m  11480\u001b[0m \u001b[39melse\u001b[39;00m:\n\u001b[0;32m> 11481\u001b[0m     \u001b[39mreturn\u001b[39;00m op(values, axis\u001b[39m=\u001b[39;49maxis, skipna\u001b[39m=\u001b[39;49mskipna, \u001b[39m*\u001b[39;49m\u001b[39m*\u001b[39;49mkwds)\n",
      "File \u001b[0;32m/opt/homebrew/anaconda3/envs/block_b/lib/python3.9/site-packages/pandas/core/nanops.py:147\u001b[0m, in \u001b[0;36mbottleneck_switch.__call__.<locals>.f\u001b[0;34m(values, axis, skipna, **kwds)\u001b[0m\n\u001b[1;32m    145\u001b[0m         result \u001b[39m=\u001b[39m alt(values, axis\u001b[39m=\u001b[39maxis, skipna\u001b[39m=\u001b[39mskipna, \u001b[39m*\u001b[39m\u001b[39m*\u001b[39mkwds)\n\u001b[1;32m    146\u001b[0m \u001b[39melse\u001b[39;00m:\n\u001b[0;32m--> 147\u001b[0m     result \u001b[39m=\u001b[39m alt(values, axis\u001b[39m=\u001b[39;49maxis, skipna\u001b[39m=\u001b[39;49mskipna, \u001b[39m*\u001b[39;49m\u001b[39m*\u001b[39;49mkwds)\n\u001b[1;32m    149\u001b[0m \u001b[39mreturn\u001b[39;00m result\n",
      "File \u001b[0;32m/opt/homebrew/anaconda3/envs/block_b/lib/python3.9/site-packages/pandas/core/nanops.py:404\u001b[0m, in \u001b[0;36m_datetimelike_compat.<locals>.new_func\u001b[0;34m(values, axis, skipna, mask, **kwargs)\u001b[0m\n\u001b[1;32m    401\u001b[0m \u001b[39mif\u001b[39;00m datetimelike \u001b[39mand\u001b[39;00m mask \u001b[39mis\u001b[39;00m \u001b[39mNone\u001b[39;00m:\n\u001b[1;32m    402\u001b[0m     mask \u001b[39m=\u001b[39m isna(values)\n\u001b[0;32m--> 404\u001b[0m result \u001b[39m=\u001b[39m func(values, axis\u001b[39m=\u001b[39;49maxis, skipna\u001b[39m=\u001b[39;49mskipna, mask\u001b[39m=\u001b[39;49mmask, \u001b[39m*\u001b[39;49m\u001b[39m*\u001b[39;49mkwargs)\n\u001b[1;32m    406\u001b[0m \u001b[39mif\u001b[39;00m datetimelike:\n\u001b[1;32m    407\u001b[0m     result \u001b[39m=\u001b[39m _wrap_results(result, orig_values\u001b[39m.\u001b[39mdtype, fill_value\u001b[39m=\u001b[39miNaT)\n",
      "File \u001b[0;32m/opt/homebrew/anaconda3/envs/block_b/lib/python3.9/site-packages/pandas/core/nanops.py:720\u001b[0m, in \u001b[0;36mnanmean\u001b[0;34m(values, axis, skipna, mask)\u001b[0m\n\u001b[1;32m    718\u001b[0m count \u001b[39m=\u001b[39m _get_counts(values\u001b[39m.\u001b[39mshape, mask, axis, dtype\u001b[39m=\u001b[39mdtype_count)\n\u001b[1;32m    719\u001b[0m the_sum \u001b[39m=\u001b[39m values\u001b[39m.\u001b[39msum(axis, dtype\u001b[39m=\u001b[39mdtype_sum)\n\u001b[0;32m--> 720\u001b[0m the_sum \u001b[39m=\u001b[39m _ensure_numeric(the_sum)\n\u001b[1;32m    722\u001b[0m \u001b[39mif\u001b[39;00m axis \u001b[39mis\u001b[39;00m \u001b[39mnot\u001b[39;00m \u001b[39mNone\u001b[39;00m \u001b[39mand\u001b[39;00m \u001b[39mgetattr\u001b[39m(the_sum, \u001b[39m\"\u001b[39m\u001b[39mndim\u001b[39m\u001b[39m\"\u001b[39m, \u001b[39mFalse\u001b[39;00m):\n\u001b[1;32m    723\u001b[0m     count \u001b[39m=\u001b[39m cast(np\u001b[39m.\u001b[39mndarray, count)\n",
      "File \u001b[0;32m/opt/homebrew/anaconda3/envs/block_b/lib/python3.9/site-packages/pandas/core/nanops.py:1686\u001b[0m, in \u001b[0;36m_ensure_numeric\u001b[0;34m(x)\u001b[0m\n\u001b[1;32m   1683\u001b[0m inferred \u001b[39m=\u001b[39m lib\u001b[39m.\u001b[39minfer_dtype(x)\n\u001b[1;32m   1684\u001b[0m \u001b[39mif\u001b[39;00m inferred \u001b[39min\u001b[39;00m [\u001b[39m\"\u001b[39m\u001b[39mstring\u001b[39m\u001b[39m\"\u001b[39m, \u001b[39m\"\u001b[39m\u001b[39mmixed\u001b[39m\u001b[39m\"\u001b[39m]:\n\u001b[1;32m   1685\u001b[0m     \u001b[39m# GH#44008, GH#36703 avoid casting e.g. strings to numeric\u001b[39;00m\n\u001b[0;32m-> 1686\u001b[0m     \u001b[39mraise\u001b[39;00m \u001b[39mTypeError\u001b[39;00m(\u001b[39mf\u001b[39m\u001b[39m\"\u001b[39m\u001b[39mCould not convert \u001b[39m\u001b[39m{\u001b[39;00mx\u001b[39m}\u001b[39;00m\u001b[39m to numeric\u001b[39m\u001b[39m\"\u001b[39m)\n\u001b[1;32m   1687\u001b[0m \u001b[39mtry\u001b[39;00m:\n\u001b[1;32m   1688\u001b[0m     x \u001b[39m=\u001b[39m x\u001b[39m.\u001b[39mastype(np\u001b[39m.\u001b[39mcomplex128)\n",
      "\u001b[0;31mTypeError\u001b[0m: Could not convert ['AQIPM2.5PM2.5_24hPM10PM10_24hSO2SO2_24hNO2NO2_24hO3O3_24hO3_8hO3_8h_24hCOCO_24hAQIPM2.5PM2.5_24hPM10PM10_24hSO2SO2_24hNO2NO2_24hO3O3_24hO3_8hO3_8h_24hCOCO_24hAQIPM2.5PM2.5_24hPM10PM10_24hSO2SO2_24hNO2NO2_24hO3O3_24hO3_8hO3_8h_24hCOCO_24hAQIPM2.5PM2.5_24hPM10PM10_24hSO2SO2_24hNO2NO2_24hO3O3_24hO3_8hO3_8h_24hCOCO_24hAQIPM2.5PM2.5_24hPM10PM10_24hSO2SO2_24hNO2NO2_24hO3O3_24hO3_8hO3_8h_24hCOCO_24hAQIPM2.5PM2.5_24hPM10PM10_24hSO2SO2_24hNO2NO2_24hO3O3_24hO3_8hO3_8h_24hCOCO_24hAQIPM2.5PM2.5_24hPM10PM10_24hSO2SO2_24hNO2NO2_24hO3O3_24hO3_8hO3_8h_24hCOCO_24hAQIPM2.5PM2.5_24hPM10PM10_24hSO2SO2_24hNO2NO2_24hO3O3_24hO3_8hO3_8h_24hCOCO_24hAQIPM2.5PM2.5_24hPM10PM10_24hSO2SO2_24hNO2NO2_24hO3O3_24hO3_8hO3_8h_24hCOCO_24hAQIPM2.5PM2.5_24hPM10PM10_24hSO2SO2_24hNO2NO2_24hO3O3_24hO3_8hO3_8h_24hCOCO_24hAQIPM2.5PM2.5_24hPM10PM10_24hSO2SO2_24hNO2NO2_24hO3O3_24hO3_8hO3_8h_24hCOCO_24hAQIPM2.5PM2.5_24hPM10PM10_24hSO2SO2_24hNO2NO2_24hO3O3_24hO3_8hO3_8h_24hCOCO_24hAQIPM2.5PM2.5_24hPM10PM10_24hSO2SO2_24hNO2NO2_24hO3O3_24hO3_8hO3_8h_24hCOCO_24hAQIPM2.5PM2.5_24hPM10PM10_24hSO2SO2_24hNO2NO2_24hO3O3_24hO3_8hO3_8h_24hCOCO_24hAQIPM2.5PM2.5_24hPM10PM10_24hSO2SO2_24hNO2NO2_24hO3O3_24hO3_8hO3_8h_24hCOCO_24hAQIPM2.5PM2.5_24hPM10PM10_24hSO2SO2_24hNO2NO2_24hO3O3_24hO3_8hO3_8h_24hCOCO_24hAQIPM2.5PM2.5_24hPM10PM10_24hSO2SO2_24hNO2NO2_24hO3O3_24hO3_8hO3_8h_24hCOCO_24hAQIPM2.5PM2.5_24hPM10PM10_24hSO2SO2_24hNO2NO2_24hO3O3_24hO3_8hO3_8h_24hCOCO_24hAQIPM2.5PM2.5_24hPM10PM10_24hSO2SO2_24hNO2NO2_24hO3O3_24hO3_8hO3_8h_24hCOCO_24hAQIPM2.5PM2.5_24hPM10PM10_24hSO2SO2_24hNO2NO2_24hO3O3_24hO3_8hO3_8h_24hCOCO_24hAQIPM2.5PM2.5_24hPM10PM10_24hSO2SO2_24hNO2NO2_24hO3O3_24hO3_8hO3_8h_24hCOCO_24hAQIPM2.5PM2.5_24hPM10PM10_24hSO2SO2_24hNO2NO2_24hO3O3_24hO3_8hO3_8h_24hCOCO_24hAQIPM2.5PM2.5_24hPM10PM10_24hSO2SO2_24hNO2NO2_24hO3O3_24hO3_8hO3_8h_24hCOCO_24hAQIPM2.5PM2.5_24hPM10PM10_24hSO2SO2_24hNO2NO2_24hO3O3_24hO3_8hO3_8h_24hCOCO_24h'] to numeric"
     ]
    }
   ],
   "source": [
    "# 用列的均值填充缺失值\n",
    "data_filled = data.fillna(data.mean())\n",
    "\n",
    "# 检查填充后的数据\n",
    "data_filled.isnull().sum()  # 查看是否还有缺失值"
   ]
  },
  {
   "cell_type": "code",
   "execution_count": null,
   "metadata": {},
   "outputs": [],
   "source": []
  }
 ],
 "metadata": {
  "kernelspec": {
   "display_name": "block_b",
   "language": "python",
   "name": "python3"
  },
  "language_info": {
   "codemirror_mode": {
    "name": "ipython",
    "version": 3
   },
   "file_extension": ".py",
   "mimetype": "text/x-python",
   "name": "python",
   "nbconvert_exporter": "python",
   "pygments_lexer": "ipython3",
   "version": "3.9.19"
  }
 },
 "nbformat": 4,
 "nbformat_minor": 2
}
